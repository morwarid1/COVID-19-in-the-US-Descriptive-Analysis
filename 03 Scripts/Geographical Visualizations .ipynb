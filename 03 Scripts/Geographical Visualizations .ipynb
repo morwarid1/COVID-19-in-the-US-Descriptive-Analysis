{
 "cells": [
  {
   "cell_type": "markdown",
   "metadata": {},
   "source": [
    "# 6.3 Geographic Visualization"
   ]
  },
  {
   "cell_type": "markdown",
   "metadata": {},
   "source": [
    "#### This script contains the following"
   ]
  },
  {
   "cell_type": "markdown",
   "metadata": {},
   "source": [
    "#### 1.Importing data and libraries"
   ]
  },
  {
   "cell_type": "markdown",
   "metadata": {},
   "source": [
    "#### 2.Data wrangling and merging"
   ]
  },
  {
   "cell_type": "markdown",
   "metadata": {},
   "source": [
    "#### 3.Data cleaning"
   ]
  },
  {
   "cell_type": "markdown",
   "metadata": {},
   "source": [
    "#### 4.Plotting a choropleth"
   ]
  },
  {
   "cell_type": "markdown",
   "metadata": {},
   "source": [
    "#### a.Using Geoplot"
   ]
  },
  {
   "cell_type": "markdown",
   "metadata": {},
   "source": [
    "#### b.Using matplotlib"
   ]
  },
  {
   "cell_type": "code",
   "execution_count": 1,
   "metadata": {},
   "outputs": [],
   "source": [
    "# importing libraries that are important\n",
    "import pandas as pd\n",
    "import numpy as np\n",
    "import seaborn as sns\n",
    "import matplotlib.pyplot as plt\n",
    "import matplotlib\n",
    "import os\n",
    "import geopandas as gpd\n",
    "import geoplot "
   ]
  },
  {
   "cell_type": "markdown",
   "metadata": {},
   "source": [
    "## Data 1 "
   ]
  },
  {
   "cell_type": "code",
   "execution_count": 2,
   "metadata": {},
   "outputs": [],
   "source": [
    "# import \".shp\" file for the U.S. shape outline using the Geopandas 'read_csv' command. \n",
    "path_shapefile = '/Users/monajafizada/Documents/Shapefiles/World_Countries'\n",
    "shapefile = gpd.read_file(os.path.join(path_shapefile, \"World_Countries__Generalized_.shp\"))"
   ]
  },
  {
   "cell_type": "code",
   "execution_count": 3,
   "metadata": {
    "scrolled": true
   },
   "outputs": [
    {
     "data": {
      "text/html": [
       "<div>\n",
       "<style scoped>\n",
       "    .dataframe tbody tr th:only-of-type {\n",
       "        vertical-align: middle;\n",
       "    }\n",
       "\n",
       "    .dataframe tbody tr th {\n",
       "        vertical-align: top;\n",
       "    }\n",
       "\n",
       "    .dataframe thead th {\n",
       "        text-align: right;\n",
       "    }\n",
       "</style>\n",
       "<table border=\"1\" class=\"dataframe\">\n",
       "  <thead>\n",
       "    <tr style=\"text-align: right;\">\n",
       "      <th></th>\n",
       "      <th>FID</th>\n",
       "      <th>COUNTRY</th>\n",
       "      <th>ISO</th>\n",
       "      <th>COUNTRYAFF</th>\n",
       "      <th>AFF_ISO</th>\n",
       "      <th>SHAPE_Leng</th>\n",
       "      <th>SHAPE_Area</th>\n",
       "      <th>geometry</th>\n",
       "    </tr>\n",
       "  </thead>\n",
       "  <tbody>\n",
       "    <tr>\n",
       "      <th>0</th>\n",
       "      <td>1</td>\n",
       "      <td>American Samoa</td>\n",
       "      <td>AS</td>\n",
       "      <td>United States</td>\n",
       "      <td>US</td>\n",
       "      <td>0.600124</td>\n",
       "      <td>0.013720</td>\n",
       "      <td>POLYGON ((-170.74390 -14.37555, -170.74942 -14...</td>\n",
       "    </tr>\n",
       "    <tr>\n",
       "      <th>1</th>\n",
       "      <td>2</td>\n",
       "      <td>United States Minor Outlying Islands</td>\n",
       "      <td>UM</td>\n",
       "      <td>United States</td>\n",
       "      <td>US</td>\n",
       "      <td>0.480216</td>\n",
       "      <td>0.003216</td>\n",
       "      <td>MULTIPOLYGON (((-160.02114 -0.39805, -160.0281...</td>\n",
       "    </tr>\n",
       "    <tr>\n",
       "      <th>2</th>\n",
       "      <td>3</td>\n",
       "      <td>Cook Islands</td>\n",
       "      <td>CK</td>\n",
       "      <td>New Zealand</td>\n",
       "      <td>NZ</td>\n",
       "      <td>0.980664</td>\n",
       "      <td>0.013073</td>\n",
       "      <td>MULTIPOLYGON (((-159.74698 -21.25667, -159.793...</td>\n",
       "    </tr>\n",
       "    <tr>\n",
       "      <th>3</th>\n",
       "      <td>4</td>\n",
       "      <td>French Polynesia</td>\n",
       "      <td>PF</td>\n",
       "      <td>France</td>\n",
       "      <td>FR</td>\n",
       "      <td>3.930211</td>\n",
       "      <td>0.175332</td>\n",
       "      <td>MULTIPOLYGON (((-149.17920 -17.87084, -149.258...</td>\n",
       "    </tr>\n",
       "    <tr>\n",
       "      <th>4</th>\n",
       "      <td>5</td>\n",
       "      <td>Niue</td>\n",
       "      <td>NU</td>\n",
       "      <td>New Zealand</td>\n",
       "      <td>NZ</td>\n",
       "      <td>0.541413</td>\n",
       "      <td>0.021414</td>\n",
       "      <td>POLYGON ((-169.89389 -19.14556, -169.93088 -19...</td>\n",
       "    </tr>\n",
       "    <tr>\n",
       "      <th>...</th>\n",
       "      <td>...</td>\n",
       "      <td>...</td>\n",
       "      <td>...</td>\n",
       "      <td>...</td>\n",
       "      <td>...</td>\n",
       "      <td>...</td>\n",
       "      <td>...</td>\n",
       "      <td>...</td>\n",
       "    </tr>\n",
       "    <tr>\n",
       "      <th>195</th>\n",
       "      <td>196</td>\n",
       "      <td>Kuwait</td>\n",
       "      <td>KW</td>\n",
       "      <td>Kuwait</td>\n",
       "      <td>KW</td>\n",
       "      <td>7.548768</td>\n",
       "      <td>1.555085</td>\n",
       "      <td>MULTIPOLYGON (((47.46339 28.98446, 47.45999 28...</td>\n",
       "    </tr>\n",
       "    <tr>\n",
       "      <th>196</th>\n",
       "      <td>197</td>\n",
       "      <td>Maldives</td>\n",
       "      <td>MV</td>\n",
       "      <td>Maldives</td>\n",
       "      <td>MV</td>\n",
       "      <td>1.128630</td>\n",
       "      <td>0.002738</td>\n",
       "      <td>MULTIPOLYGON (((73.09915 -0.60278, 73.10942 -0...</td>\n",
       "    </tr>\n",
       "    <tr>\n",
       "      <th>197</th>\n",
       "      <td>198</td>\n",
       "      <td>Nepal</td>\n",
       "      <td>NP</td>\n",
       "      <td>Nepal</td>\n",
       "      <td>NP</td>\n",
       "      <td>23.533267</td>\n",
       "      <td>13.533720</td>\n",
       "      <td>POLYGON ((82.70110 27.71111, 82.65791 27.70764...</td>\n",
       "    </tr>\n",
       "    <tr>\n",
       "      <th>198</th>\n",
       "      <td>199</td>\n",
       "      <td>Oman</td>\n",
       "      <td>OM</td>\n",
       "      <td>Oman</td>\n",
       "      <td>OM</td>\n",
       "      <td>32.335214</td>\n",
       "      <td>26.760914</td>\n",
       "      <td>MULTIPOLYGON (((55.42220 21.26751, 55.66611 21...</td>\n",
       "    </tr>\n",
       "    <tr>\n",
       "      <th>199</th>\n",
       "      <td>200</td>\n",
       "      <td>Pakistan</td>\n",
       "      <td>PK</td>\n",
       "      <td>Pakistan</td>\n",
       "      <td>PK</td>\n",
       "      <td>71.729794</td>\n",
       "      <td>82.062516</td>\n",
       "      <td>POLYGON ((63.23044 29.47370, 63.55471 29.50166...</td>\n",
       "    </tr>\n",
       "  </tbody>\n",
       "</table>\n",
       "<p>200 rows × 8 columns</p>\n",
       "</div>"
      ],
      "text/plain": [
       "     FID                               COUNTRY ISO     COUNTRYAFF AFF_ISO  \\\n",
       "0      1                        American Samoa  AS  United States      US   \n",
       "1      2  United States Minor Outlying Islands  UM  United States      US   \n",
       "2      3                          Cook Islands  CK    New Zealand      NZ   \n",
       "3      4                      French Polynesia  PF         France      FR   \n",
       "4      5                                  Niue  NU    New Zealand      NZ   \n",
       "..   ...                                   ...  ..            ...     ...   \n",
       "195  196                                Kuwait  KW         Kuwait      KW   \n",
       "196  197                              Maldives  MV       Maldives      MV   \n",
       "197  198                                 Nepal  NP          Nepal      NP   \n",
       "198  199                                  Oman  OM           Oman      OM   \n",
       "199  200                              Pakistan  PK       Pakistan      PK   \n",
       "\n",
       "     SHAPE_Leng  SHAPE_Area                                           geometry  \n",
       "0      0.600124    0.013720  POLYGON ((-170.74390 -14.37555, -170.74942 -14...  \n",
       "1      0.480216    0.003216  MULTIPOLYGON (((-160.02114 -0.39805, -160.0281...  \n",
       "2      0.980664    0.013073  MULTIPOLYGON (((-159.74698 -21.25667, -159.793...  \n",
       "3      3.930211    0.175332  MULTIPOLYGON (((-149.17920 -17.87084, -149.258...  \n",
       "4      0.541413    0.021414  POLYGON ((-169.89389 -19.14556, -169.93088 -19...  \n",
       "..          ...         ...                                                ...  \n",
       "195    7.548768    1.555085  MULTIPOLYGON (((47.46339 28.98446, 47.45999 28...  \n",
       "196    1.128630    0.002738  MULTIPOLYGON (((73.09915 -0.60278, 73.10942 -0...  \n",
       "197   23.533267   13.533720  POLYGON ((82.70110 27.71111, 82.65791 27.70764...  \n",
       "198   32.335214   26.760914  MULTIPOLYGON (((55.42220 21.26751, 55.66611 21...  \n",
       "199   71.729794   82.062516  POLYGON ((63.23044 29.47370, 63.55471 29.50166...  \n",
       "\n",
       "[200 rows x 8 columns]"
      ]
     },
     "execution_count": 3,
     "metadata": {},
     "output_type": "execute_result"
    }
   ],
   "source": [
    "# View the head of the new Geodataframe\n",
    "shapefile.head(200)"
   ]
  },
  {
   "cell_type": "code",
   "execution_count": 4,
   "metadata": {},
   "outputs": [
    {
     "data": {
      "text/plain": [
       "<AxesSubplot:>"
      ]
     },
     "execution_count": 4,
     "metadata": {},
     "output_type": "execute_result"
    },
    {
     "data": {
      "image/png": "[encoded data removed]",
      "text/plain": [
       "<Figure size 432x288 with 1 Axes>"
      ]
     },
     "metadata": {
      "needs_background": "light"
     },
     "output_type": "display_data"
    }
   ],
   "source": [
    "# ploting the world map shapefile\n",
    "shapefile.plot()"
   ]
  },
  {
   "cell_type": "markdown",
   "metadata": {},
   "source": [
    "## Data 2 "
   ]
  },
  {
   "cell_type": "code",
   "execution_count": 7,
   "metadata": {},
   "outputs": [],
   "source": [
    "# Path for the data\n",
    "path = r'/Users/monajafizada/Documents/DataAnalytics/A6 advanced analytics and dashboard design/Project Information'"
   ]
  },
  {
   "cell_type": "code",
   "execution_count": 8,
   "metadata": {},
   "outputs": [],
   "source": [
    "Covid_Deaths_by_sex_age_States = pd.read_csv(os.path.join(path, '02 Data', 'PreparedData', 'COVID-19_Death_Counts_by_Sex__Age__and_State.csv'), index_col = False)"
   ]
  },
  {
   "cell_type": "code",
   "execution_count": 9,
   "metadata": {},
   "outputs": [
    {
     "data": {
      "text/html": [
       "<div>\n",
       "<style scoped>\n",
       "    .dataframe tbody tr th:only-of-type {\n",
       "        vertical-align: middle;\n",
       "    }\n",
       "\n",
       "    .dataframe tbody tr th {\n",
       "        vertical-align: top;\n",
       "    }\n",
       "\n",
       "    .dataframe thead th {\n",
       "        text-align: right;\n",
       "    }\n",
       "</style>\n",
       "<table border=\"1\" class=\"dataframe\">\n",
       "  <thead>\n",
       "    <tr style=\"text-align: right;\">\n",
       "      <th></th>\n",
       "      <th>Unnamed: 0</th>\n",
       "      <th>Data as of</th>\n",
       "      <th>Start week</th>\n",
       "      <th>End Week</th>\n",
       "      <th>State</th>\n",
       "      <th>Sex</th>\n",
       "      <th>Age group</th>\n",
       "      <th>COVID-19 Deaths</th>\n",
       "    </tr>\n",
       "  </thead>\n",
       "  <tbody>\n",
       "    <tr>\n",
       "      <th>0</th>\n",
       "      <td>0</td>\n",
       "      <td>08/12/2020</td>\n",
       "      <td>02/01/2020</td>\n",
       "      <td>08/08/2020</td>\n",
       "      <td>United States</td>\n",
       "      <td>All</td>\n",
       "      <td>Under 1 year</td>\n",
       "      <td>16.0</td>\n",
       "    </tr>\n",
       "    <tr>\n",
       "      <th>1</th>\n",
       "      <td>1</td>\n",
       "      <td>08/12/2020</td>\n",
       "      <td>02/01/2020</td>\n",
       "      <td>08/08/2020</td>\n",
       "      <td>United States</td>\n",
       "      <td>All</td>\n",
       "      <td>1-4 years</td>\n",
       "      <td>10.0</td>\n",
       "    </tr>\n",
       "    <tr>\n",
       "      <th>2</th>\n",
       "      <td>2</td>\n",
       "      <td>08/12/2020</td>\n",
       "      <td>02/01/2020</td>\n",
       "      <td>08/08/2020</td>\n",
       "      <td>United States</td>\n",
       "      <td>All</td>\n",
       "      <td>5-14 years</td>\n",
       "      <td>23.0</td>\n",
       "    </tr>\n",
       "    <tr>\n",
       "      <th>3</th>\n",
       "      <td>3</td>\n",
       "      <td>08/12/2020</td>\n",
       "      <td>02/01/2020</td>\n",
       "      <td>08/08/2020</td>\n",
       "      <td>United States</td>\n",
       "      <td>All</td>\n",
       "      <td>15-24 years</td>\n",
       "      <td>242.0</td>\n",
       "    </tr>\n",
       "    <tr>\n",
       "      <th>4</th>\n",
       "      <td>4</td>\n",
       "      <td>08/12/2020</td>\n",
       "      <td>02/01/2020</td>\n",
       "      <td>08/08/2020</td>\n",
       "      <td>United States</td>\n",
       "      <td>All</td>\n",
       "      <td>25-34 years</td>\n",
       "      <td>1133.0</td>\n",
       "    </tr>\n",
       "  </tbody>\n",
       "</table>\n",
       "</div>"
      ],
      "text/plain": [
       "   Unnamed: 0  Data as of  Start week    End Week          State  Sex  \\\n",
       "0           0  08/12/2020  02/01/2020  08/08/2020  United States  All   \n",
       "1           1  08/12/2020  02/01/2020  08/08/2020  United States  All   \n",
       "2           2  08/12/2020  02/01/2020  08/08/2020  United States  All   \n",
       "3           3  08/12/2020  02/01/2020  08/08/2020  United States  All   \n",
       "4           4  08/12/2020  02/01/2020  08/08/2020  United States  All   \n",
       "\n",
       "      Age group  COVID-19 Deaths  \n",
       "0  Under 1 year             16.0  \n",
       "1     1-4 years             10.0  \n",
       "2    5-14 years             23.0  \n",
       "3   15-24 years            242.0  \n",
       "4   25-34 years           1133.0  "
      ]
     },
     "execution_count": 9,
     "metadata": {},
     "output_type": "execute_result"
    }
   ],
   "source": [
    "Covid_Deaths_by_sex_age_States.head()"
   ]
  },
  {
   "cell_type": "code",
   "execution_count": 10,
   "metadata": {},
   "outputs": [
    {
     "data": {
      "text/plain": [
       "(1416, 8)"
      ]
     },
     "execution_count": 10,
     "metadata": {},
     "output_type": "execute_result"
    }
   ],
   "source": [
    "Covid_Deaths_by_sex_age_States.shape"
   ]
  },
  {
   "cell_type": "code",
   "execution_count": 11,
   "metadata": {},
   "outputs": [],
   "source": [
    "# import \".shp\" file for the U.S. shape outline using the Geopandas 'read_csv' command. \n",
    "path_shapefile = '/Users/monajafizada/Documents/Shapefiles/Tapestry_Households-shp'"
   ]
  },
  {
   "cell_type": "code",
   "execution_count": 12,
   "metadata": {},
   "outputs": [],
   "source": [
    "# import \".shp\" file for the U.S. shape outline using the Geopandas 'read_csv' command. \n",
    "shapefile_US = gpd.read_file(os.path.join(path_shapefile, \"c5f6f1b0-a7ca-4129-8347-10ab6b63e944202045-1-1tbugw7.ejd3.shp\"))"
   ]
  },
  {
   "cell_type": "code",
   "execution_count": 13,
   "metadata": {},
   "outputs": [
    {
     "data": {
      "text/html": [
       "<div>\n",
       "<style scoped>\n",
       "    .dataframe tbody tr th:only-of-type {\n",
       "        vertical-align: middle;\n",
       "    }\n",
       "\n",
       "    .dataframe tbody tr th {\n",
       "        vertical-align: top;\n",
       "    }\n",
       "\n",
       "    .dataframe thead th {\n",
       "        text-align: right;\n",
       "    }\n",
       "</style>\n",
       "<table border=\"1\" class=\"dataframe\">\n",
       "  <thead>\n",
       "    <tr style=\"text-align: right;\">\n",
       "      <th></th>\n",
       "      <th>OBJECTID</th>\n",
       "      <th>ID</th>\n",
       "      <th>NAME</th>\n",
       "      <th>STATE_NAME</th>\n",
       "      <th>ST_ABBREV</th>\n",
       "      <th>State_Tape</th>\n",
       "      <th>TSEGNUM</th>\n",
       "      <th>TSEGCODE</th>\n",
       "      <th>TSEGNAME</th>\n",
       "      <th>THHBASE</th>\n",
       "      <th>...</th>\n",
       "      <th>THHGRPL6</th>\n",
       "      <th>THHGRPL7</th>\n",
       "      <th>THHGRPL8</th>\n",
       "      <th>THHGRPL9</th>\n",
       "      <th>THHGRPL10</th>\n",
       "      <th>THHGRPL11</th>\n",
       "      <th>THHGRPL12</th>\n",
       "      <th>THHGRPL13</th>\n",
       "      <th>THHGRPL14</th>\n",
       "      <th>geometry</th>\n",
       "    </tr>\n",
       "  </thead>\n",
       "  <tbody>\n",
       "    <tr>\n",
       "      <th>0</th>\n",
       "      <td>1</td>\n",
       "      <td>01</td>\n",
       "      <td>Alabama</td>\n",
       "      <td>Alabama</td>\n",
       "      <td>AL</td>\n",
       "      <td>51643.786616</td>\n",
       "      <td>46</td>\n",
       "      <td>10A</td>\n",
       "      <td>Southern Satellites</td>\n",
       "      <td>1934031</td>\n",
       "      <td>...</td>\n",
       "      <td>191970</td>\n",
       "      <td>20214</td>\n",
       "      <td>115482</td>\n",
       "      <td>38914</td>\n",
       "      <td>656907</td>\n",
       "      <td>95540</td>\n",
       "      <td>253760</td>\n",
       "      <td>2752</td>\n",
       "      <td>41337</td>\n",
       "      <td>MULTIPOLYGON (((-88.05318 30.19560, -88.05542 ...</td>\n",
       "    </tr>\n",
       "  </tbody>\n",
       "</table>\n",
       "<p>1 rows × 96 columns</p>\n",
       "</div>"
      ],
      "text/plain": [
       "   OBJECTID  ID     NAME STATE_NAME ST_ABBREV    State_Tape  TSEGNUM TSEGCODE  \\\n",
       "0         1  01  Alabama    Alabama        AL  51643.786616       46      10A   \n",
       "\n",
       "              TSEGNAME  THHBASE  ...  THHGRPL6  THHGRPL7  THHGRPL8  THHGRPL9  \\\n",
       "0  Southern Satellites  1934031  ...    191970     20214    115482     38914   \n",
       "\n",
       "   THHGRPL10  THHGRPL11  THHGRPL12  THHGRPL13  THHGRPL14  \\\n",
       "0     656907      95540     253760       2752      41337   \n",
       "\n",
       "                                            geometry  \n",
       "0  MULTIPOLYGON (((-88.05318 30.19560, -88.05542 ...  \n",
       "\n",
       "[1 rows x 96 columns]"
      ]
     },
     "execution_count": 13,
     "metadata": {},
     "output_type": "execute_result"
    }
   ],
   "source": [
    "shapefile_US.head(1)"
   ]
  },
  {
   "cell_type": "code",
   "execution_count": 14,
   "metadata": {},
   "outputs": [],
   "source": [
    "# you can drop the extra columns if necessary \n"
   ]
  },
  {
   "cell_type": "code",
   "execution_count": 15,
   "metadata": {},
   "outputs": [
    {
     "data": {
      "text/plain": [
       "Index(['OBJECTID', 'ID', 'NAME', 'STATE_NAME', 'ST_ABBREV', 'State_Tape',\n",
       "       'TSEGNUM', 'TSEGCODE', 'TSEGNAME', 'THHBASE', 'THH01', 'THH02', 'THH03',\n",
       "       'THH04', 'THH05', 'THH06', 'THH07', 'THH08', 'THH09', 'THH10', 'THH11',\n",
       "       'THH12', 'THH13', 'THH14', 'THH15', 'THH16', 'THH17', 'THH18', 'THH19',\n",
       "       'THH20', 'THH21', 'THH22', 'THH23', 'THH24', 'THH25', 'THH26', 'THH27',\n",
       "       'THH28', 'THH29', 'THH30', 'THH31', 'THH32', 'THH33', 'THH34', 'THH35',\n",
       "       'THH36', 'THH37', 'THH38', 'THH39', 'THH40', 'THH41', 'THH42', 'THH43',\n",
       "       'THH44', 'THH45', 'THH46', 'THH47', 'THH48', 'THH49', 'THH50', 'THH51',\n",
       "       'THH52', 'THH53', 'THH54', 'THH55', 'THH56', 'THH57', 'THH58', 'THH59',\n",
       "       'THH60', 'THH61', 'THH62', 'THH63', 'THH64', 'THH65', 'THH66', 'THH67',\n",
       "       'THH68', 'TLIFECODE', 'TLIFENAME', 'Flier_URL', 'THHGRPL1', 'THHGRPL2',\n",
       "       'THHGRPL3', 'THHGRPL4', 'THHGRPL5', 'THHGRPL6', 'THHGRPL7', 'THHGRPL8',\n",
       "       'THHGRPL9', 'THHGRPL10', 'THHGRPL11', 'THHGRPL12', 'THHGRPL13',\n",
       "       'THHGRPL14', 'geometry'],\n",
       "      dtype='object')"
      ]
     },
     "execution_count": 15,
     "metadata": {},
     "output_type": "execute_result"
    }
   ],
   "source": [
    "shapefile_US.columns"
   ]
  },
  {
   "cell_type": "code",
   "execution_count": 16,
   "metadata": {},
   "outputs": [
    {
     "data": {
      "text/plain": [
       "(51, 96)"
      ]
     },
     "execution_count": 16,
     "metadata": {},
     "output_type": "execute_result"
    }
   ],
   "source": [
    "shapefile_US.shape"
   ]
  },
  {
   "cell_type": "markdown",
   "metadata": {},
   "source": [
    "##### Data wrangling and merging"
   ]
  },
  {
   "cell_type": "code",
   "execution_count": 17,
   "metadata": {},
   "outputs": [],
   "source": [
    "Covid_Deaths_by_sex_age_States = Covid_Deaths_by_sex_age_States.rename(columns={'State':'STATE_NAME'})"
   ]
  },
  {
   "cell_type": "code",
   "execution_count": 18,
   "metadata": {},
   "outputs": [
    {
     "data": {
      "text/html": [
       "<div>\n",
       "<style scoped>\n",
       "    .dataframe tbody tr th:only-of-type {\n",
       "        vertical-align: middle;\n",
       "    }\n",
       "\n",
       "    .dataframe tbody tr th {\n",
       "        vertical-align: top;\n",
       "    }\n",
       "\n",
       "    .dataframe thead th {\n",
       "        text-align: right;\n",
       "    }\n",
       "</style>\n",
       "<table border=\"1\" class=\"dataframe\">\n",
       "  <thead>\n",
       "    <tr style=\"text-align: right;\">\n",
       "      <th></th>\n",
       "      <th>Unnamed: 0</th>\n",
       "      <th>Data as of</th>\n",
       "      <th>Start week</th>\n",
       "      <th>End Week</th>\n",
       "      <th>STATE_NAME</th>\n",
       "      <th>Sex</th>\n",
       "      <th>Age group</th>\n",
       "      <th>COVID-19 Deaths</th>\n",
       "    </tr>\n",
       "  </thead>\n",
       "  <tbody>\n",
       "    <tr>\n",
       "      <th>0</th>\n",
       "      <td>0</td>\n",
       "      <td>08/12/2020</td>\n",
       "      <td>02/01/2020</td>\n",
       "      <td>08/08/2020</td>\n",
       "      <td>United States</td>\n",
       "      <td>All</td>\n",
       "      <td>Under 1 year</td>\n",
       "      <td>16.0</td>\n",
       "    </tr>\n",
       "    <tr>\n",
       "      <th>1</th>\n",
       "      <td>1</td>\n",
       "      <td>08/12/2020</td>\n",
       "      <td>02/01/2020</td>\n",
       "      <td>08/08/2020</td>\n",
       "      <td>United States</td>\n",
       "      <td>All</td>\n",
       "      <td>1-4 years</td>\n",
       "      <td>10.0</td>\n",
       "    </tr>\n",
       "    <tr>\n",
       "      <th>2</th>\n",
       "      <td>2</td>\n",
       "      <td>08/12/2020</td>\n",
       "      <td>02/01/2020</td>\n",
       "      <td>08/08/2020</td>\n",
       "      <td>United States</td>\n",
       "      <td>All</td>\n",
       "      <td>5-14 years</td>\n",
       "      <td>23.0</td>\n",
       "    </tr>\n",
       "    <tr>\n",
       "      <th>3</th>\n",
       "      <td>3</td>\n",
       "      <td>08/12/2020</td>\n",
       "      <td>02/01/2020</td>\n",
       "      <td>08/08/2020</td>\n",
       "      <td>United States</td>\n",
       "      <td>All</td>\n",
       "      <td>15-24 years</td>\n",
       "      <td>242.0</td>\n",
       "    </tr>\n",
       "    <tr>\n",
       "      <th>4</th>\n",
       "      <td>4</td>\n",
       "      <td>08/12/2020</td>\n",
       "      <td>02/01/2020</td>\n",
       "      <td>08/08/2020</td>\n",
       "      <td>United States</td>\n",
       "      <td>All</td>\n",
       "      <td>25-34 years</td>\n",
       "      <td>1133.0</td>\n",
       "    </tr>\n",
       "  </tbody>\n",
       "</table>\n",
       "</div>"
      ],
      "text/plain": [
       "   Unnamed: 0  Data as of  Start week    End Week     STATE_NAME  Sex  \\\n",
       "0           0  08/12/2020  02/01/2020  08/08/2020  United States  All   \n",
       "1           1  08/12/2020  02/01/2020  08/08/2020  United States  All   \n",
       "2           2  08/12/2020  02/01/2020  08/08/2020  United States  All   \n",
       "3           3  08/12/2020  02/01/2020  08/08/2020  United States  All   \n",
       "4           4  08/12/2020  02/01/2020  08/08/2020  United States  All   \n",
       "\n",
       "      Age group  COVID-19 Deaths  \n",
       "0  Under 1 year             16.0  \n",
       "1     1-4 years             10.0  \n",
       "2    5-14 years             23.0  \n",
       "3   15-24 years            242.0  \n",
       "4   25-34 years           1133.0  "
      ]
     },
     "execution_count": 18,
     "metadata": {},
     "output_type": "execute_result"
    }
   ],
   "source": [
    "Covid_Deaths_by_sex_age_States.head()"
   ]
  },
  {
   "cell_type": "code",
   "execution_count": 19,
   "metadata": {},
   "outputs": [],
   "source": [
    "# merging both dataframes on the \"STATE_NAME\" Column\n",
    "usa_m = shapefile_US.merge(Covid_Deaths_by_sex_age_States, on = 'STATE_NAME', how = 'outer', indicator = True)"
   ]
  },
  {
   "cell_type": "code",
   "execution_count": 20,
   "metadata": {},
   "outputs": [
    {
     "data": {
      "text/plain": [
       "geopandas.geodataframe.GeoDataFrame"
      ]
     },
     "execution_count": 20,
     "metadata": {},
     "output_type": "execute_result"
    }
   ],
   "source": [
    "type(usa_m)"
   ]
  },
  {
   "cell_type": "code",
   "execution_count": 21,
   "metadata": {},
   "outputs": [
    {
     "data": {
      "text/plain": [
       "(1416, 104)"
      ]
     },
     "execution_count": 21,
     "metadata": {},
     "output_type": "execute_result"
    }
   ],
   "source": [
    "usa_m.shape"
   ]
  },
  {
   "cell_type": "code",
   "execution_count": 22,
   "metadata": {},
   "outputs": [
    {
     "data": {
      "text/plain": [
       "both          1275\n",
       "right_only     141\n",
       "left_only        0\n",
       "Name: _merge, dtype: int64"
      ]
     },
     "execution_count": 22,
     "metadata": {},
     "output_type": "execute_result"
    }
   ],
   "source": [
    "usa_m['_merge'].value_counts()"
   ]
  },
  {
   "cell_type": "code",
   "execution_count": 23,
   "metadata": {},
   "outputs": [
    {
     "data": {
      "text/html": [
       "<div>\n",
       "<style scoped>\n",
       "    .dataframe tbody tr th:only-of-type {\n",
       "        vertical-align: middle;\n",
       "    }\n",
       "\n",
       "    .dataframe tbody tr th {\n",
       "        vertical-align: top;\n",
       "    }\n",
       "\n",
       "    .dataframe thead th {\n",
       "        text-align: right;\n",
       "    }\n",
       "</style>\n",
       "<table border=\"1\" class=\"dataframe\">\n",
       "  <thead>\n",
       "    <tr style=\"text-align: right;\">\n",
       "      <th></th>\n",
       "      <th>OBJECTID</th>\n",
       "      <th>ID</th>\n",
       "      <th>NAME</th>\n",
       "      <th>STATE_NAME</th>\n",
       "      <th>ST_ABBREV</th>\n",
       "      <th>State_Tape</th>\n",
       "      <th>TSEGNUM</th>\n",
       "      <th>TSEGCODE</th>\n",
       "      <th>TSEGNAME</th>\n",
       "      <th>THHBASE</th>\n",
       "      <th>...</th>\n",
       "      <th>THHGRPL14</th>\n",
       "      <th>geometry</th>\n",
       "      <th>Unnamed: 0</th>\n",
       "      <th>Data as of</th>\n",
       "      <th>Start week</th>\n",
       "      <th>End Week</th>\n",
       "      <th>Sex</th>\n",
       "      <th>Age group</th>\n",
       "      <th>COVID-19 Deaths</th>\n",
       "      <th>_merge</th>\n",
       "    </tr>\n",
       "  </thead>\n",
       "  <tbody>\n",
       "    <tr>\n",
       "      <th>0</th>\n",
       "      <td>1.0</td>\n",
       "      <td>01</td>\n",
       "      <td>Alabama</td>\n",
       "      <td>Alabama</td>\n",
       "      <td>AL</td>\n",
       "      <td>51643.786616</td>\n",
       "      <td>46.0</td>\n",
       "      <td>10A</td>\n",
       "      <td>Southern Satellites</td>\n",
       "      <td>1934031.0</td>\n",
       "      <td>...</td>\n",
       "      <td>41337.0</td>\n",
       "      <td>MULTIPOLYGON (((-88.05318 30.19560, -88.05542 ...</td>\n",
       "      <td>38</td>\n",
       "      <td>08/12/2020</td>\n",
       "      <td>02/01/2020</td>\n",
       "      <td>08/08/2020</td>\n",
       "      <td>Male</td>\n",
       "      <td>Under 1 year</td>\n",
       "      <td>0.000000</td>\n",
       "      <td>both</td>\n",
       "    </tr>\n",
       "    <tr>\n",
       "      <th>1</th>\n",
       "      <td>1.0</td>\n",
       "      <td>01</td>\n",
       "      <td>Alabama</td>\n",
       "      <td>Alabama</td>\n",
       "      <td>AL</td>\n",
       "      <td>51643.786616</td>\n",
       "      <td>46.0</td>\n",
       "      <td>10A</td>\n",
       "      <td>Southern Satellites</td>\n",
       "      <td>1934031.0</td>\n",
       "      <td>...</td>\n",
       "      <td>41337.0</td>\n",
       "      <td>MULTIPOLYGON (((-88.05318 30.19560, -88.05542 ...</td>\n",
       "      <td>39</td>\n",
       "      <td>08/12/2020</td>\n",
       "      <td>02/01/2020</td>\n",
       "      <td>08/08/2020</td>\n",
       "      <td>Male</td>\n",
       "      <td>1-4 years</td>\n",
       "      <td>0.000000</td>\n",
       "      <td>both</td>\n",
       "    </tr>\n",
       "    <tr>\n",
       "      <th>2</th>\n",
       "      <td>1.0</td>\n",
       "      <td>01</td>\n",
       "      <td>Alabama</td>\n",
       "      <td>Alabama</td>\n",
       "      <td>AL</td>\n",
       "      <td>51643.786616</td>\n",
       "      <td>46.0</td>\n",
       "      <td>10A</td>\n",
       "      <td>Southern Satellites</td>\n",
       "      <td>1934031.0</td>\n",
       "      <td>...</td>\n",
       "      <td>41337.0</td>\n",
       "      <td>MULTIPOLYGON (((-88.05318 30.19560, -88.05542 ...</td>\n",
       "      <td>40</td>\n",
       "      <td>08/12/2020</td>\n",
       "      <td>02/01/2020</td>\n",
       "      <td>08/08/2020</td>\n",
       "      <td>Male</td>\n",
       "      <td>5-14 years</td>\n",
       "      <td>0.000000</td>\n",
       "      <td>both</td>\n",
       "    </tr>\n",
       "    <tr>\n",
       "      <th>3</th>\n",
       "      <td>1.0</td>\n",
       "      <td>01</td>\n",
       "      <td>Alabama</td>\n",
       "      <td>Alabama</td>\n",
       "      <td>AL</td>\n",
       "      <td>51643.786616</td>\n",
       "      <td>46.0</td>\n",
       "      <td>10A</td>\n",
       "      <td>Southern Satellites</td>\n",
       "      <td>1934031.0</td>\n",
       "      <td>...</td>\n",
       "      <td>41337.0</td>\n",
       "      <td>MULTIPOLYGON (((-88.05318 30.19560, -88.05542 ...</td>\n",
       "      <td>41</td>\n",
       "      <td>08/12/2020</td>\n",
       "      <td>02/01/2020</td>\n",
       "      <td>08/08/2020</td>\n",
       "      <td>Male</td>\n",
       "      <td>15-24 years</td>\n",
       "      <td>1048.084359</td>\n",
       "      <td>both</td>\n",
       "    </tr>\n",
       "    <tr>\n",
       "      <th>4</th>\n",
       "      <td>1.0</td>\n",
       "      <td>01</td>\n",
       "      <td>Alabama</td>\n",
       "      <td>Alabama</td>\n",
       "      <td>AL</td>\n",
       "      <td>51643.786616</td>\n",
       "      <td>46.0</td>\n",
       "      <td>10A</td>\n",
       "      <td>Southern Satellites</td>\n",
       "      <td>1934031.0</td>\n",
       "      <td>...</td>\n",
       "      <td>41337.0</td>\n",
       "      <td>MULTIPOLYGON (((-88.05318 30.19560, -88.05542 ...</td>\n",
       "      <td>42</td>\n",
       "      <td>08/12/2020</td>\n",
       "      <td>02/01/2020</td>\n",
       "      <td>08/08/2020</td>\n",
       "      <td>Male</td>\n",
       "      <td>25-34 years</td>\n",
       "      <td>1048.084359</td>\n",
       "      <td>both</td>\n",
       "    </tr>\n",
       "  </tbody>\n",
       "</table>\n",
       "<p>5 rows × 104 columns</p>\n",
       "</div>"
      ],
      "text/plain": [
       "   OBJECTID  ID     NAME STATE_NAME ST_ABBREV    State_Tape  TSEGNUM TSEGCODE  \\\n",
       "0       1.0  01  Alabama    Alabama        AL  51643.786616     46.0      10A   \n",
       "1       1.0  01  Alabama    Alabama        AL  51643.786616     46.0      10A   \n",
       "2       1.0  01  Alabama    Alabama        AL  51643.786616     46.0      10A   \n",
       "3       1.0  01  Alabama    Alabama        AL  51643.786616     46.0      10A   \n",
       "4       1.0  01  Alabama    Alabama        AL  51643.786616     46.0      10A   \n",
       "\n",
       "              TSEGNAME    THHBASE  ...  THHGRPL14  \\\n",
       "0  Southern Satellites  1934031.0  ...    41337.0   \n",
       "1  Southern Satellites  1934031.0  ...    41337.0   \n",
       "2  Southern Satellites  1934031.0  ...    41337.0   \n",
       "3  Southern Satellites  1934031.0  ...    41337.0   \n",
       "4  Southern Satellites  1934031.0  ...    41337.0   \n",
       "\n",
       "                                            geometry  Unnamed: 0  Data as of  \\\n",
       "0  MULTIPOLYGON (((-88.05318 30.19560, -88.05542 ...          38  08/12/2020   \n",
       "1  MULTIPOLYGON (((-88.05318 30.19560, -88.05542 ...          39  08/12/2020   \n",
       "2  MULTIPOLYGON (((-88.05318 30.19560, -88.05542 ...          40  08/12/2020   \n",
       "3  MULTIPOLYGON (((-88.05318 30.19560, -88.05542 ...          41  08/12/2020   \n",
       "4  MULTIPOLYGON (((-88.05318 30.19560, -88.05542 ...          42  08/12/2020   \n",
       "\n",
       "   Start week    End Week   Sex     Age group  COVID-19 Deaths  _merge  \n",
       "0  02/01/2020  08/08/2020  Male  Under 1 year         0.000000    both  \n",
       "1  02/01/2020  08/08/2020  Male     1-4 years         0.000000    both  \n",
       "2  02/01/2020  08/08/2020  Male    5-14 years         0.000000    both  \n",
       "3  02/01/2020  08/08/2020  Male   15-24 years      1048.084359    both  \n",
       "4  02/01/2020  08/08/2020  Male   25-34 years      1048.084359    both  \n",
       "\n",
       "[5 rows x 104 columns]"
      ]
     },
     "execution_count": 23,
     "metadata": {},
     "output_type": "execute_result"
    }
   ],
   "source": [
    "usa_m.head()"
   ]
  },
  {
   "cell_type": "code",
   "execution_count": 24,
   "metadata": {},
   "outputs": [
    {
     "data": {
      "text/plain": [
       "OBJECTID           141\n",
       "ID                 141\n",
       "NAME               141\n",
       "STATE_NAME           0\n",
       "ST_ABBREV          141\n",
       "                  ... \n",
       "End Week             0\n",
       "Sex                  0\n",
       "Age group            0\n",
       "COVID-19 Deaths      0\n",
       "_merge               0\n",
       "Length: 104, dtype: int64"
      ]
     },
     "execution_count": 24,
     "metadata": {},
     "output_type": "execute_result"
    }
   ],
   "source": [
    "usa_m.isnull().sum()"
   ]
  },
  {
   "cell_type": "code",
   "execution_count": 25,
   "metadata": {},
   "outputs": [],
   "source": [
    "dups = usa_m.duplicated()"
   ]
  },
  {
   "cell_type": "code",
   "execution_count": 26,
   "metadata": {},
   "outputs": [
    {
     "data": {
      "text/plain": [
       "(1416,)"
      ]
     },
     "execution_count": 26,
     "metadata": {},
     "output_type": "execute_result"
    }
   ],
   "source": [
    "dups.shape # No dups"
   ]
  },
  {
   "cell_type": "markdown",
   "metadata": {},
   "source": [
    "### Extream Values Checks "
   ]
  },
  {
   "cell_type": "code",
   "execution_count": 27,
   "metadata": {},
   "outputs": [
    {
     "data": {
      "text/plain": [
       "<seaborn.axisgrid.FacetGrid at 0x7f9d130b21f0>"
      ]
     },
     "execution_count": 27,
     "metadata": {},
     "output_type": "execute_result"
    },
    {
     "data": {
      "image/png": "[encoded data removed]",
      "text/plain": [
       "<Figure size 360x360 with 1 Axes>"
      ]
     },
     "metadata": {
      "needs_background": "light"
     },
     "output_type": "display_data"
    }
   ],
   "source": [
    "# Show extreme values for the 'COVID-19 Deaths'\n",
    "sns.displot(usa_m ['COVID-19 Deaths'], bins = 20)"
   ]
  },
  {
   "cell_type": "code",
   "execution_count": 28,
   "metadata": {},
   "outputs": [],
   "source": [
    "# Clean the extreme values\n",
    "USA_M_E = usa_m[usa_m['COVID-19 Deaths']< 20000]"
   ]
  },
  {
   "cell_type": "code",
   "execution_count": 29,
   "metadata": {},
   "outputs": [
    {
     "data": {
      "text/plain": [
       "(1406, 104)"
      ]
     },
     "execution_count": 29,
     "metadata": {},
     "output_type": "execute_result"
    }
   ],
   "source": [
    "USA_M_E.shape"
   ]
  },
  {
   "cell_type": "code",
   "execution_count": 30,
   "metadata": {},
   "outputs": [
    {
     "name": "stderr",
     "output_type": "stream",
     "text": [
      "<ipython-input-30-fa4a8e3b0ab6>:2: SettingWithCopyWarning: \n",
      "A value is trying to be set on a copy of a slice from a DataFrame.\n",
      "Try using .loc[row_indexer,col_indexer] = value instead\n",
      "\n",
      "See the caveats in the documentation: https://pandas.pydata.org/pandas-docs/stable/user_guide/indexing.html#returning-a-view-versus-a-copy\n",
      "  USA_M_E ['cal_per_portion'] =USA_M_E ['COVID-19 Deaths']*4\n"
     ]
    }
   ],
   "source": [
    "# Create a 'cal_per_portion' columns\n",
    "USA_M_E ['cal_per_portion'] =USA_M_E ['COVID-19 Deaths']*4"
   ]
  },
  {
   "cell_type": "code",
   "execution_count": 31,
   "metadata": {},
   "outputs": [
    {
     "name": "stderr",
     "output_type": "stream",
     "text": [
      "/Users/monajafizada/opt/anaconda3/lib/python3.8/site-packages/seaborn/distributions.py:2551: FutureWarning: `distplot` is a deprecated function and will be removed in a future version. Please adapt your code to use either `displot` (a figure-level function with similar flexibility) or `histplot` (an axes-level function for histograms).\n",
      "  warnings.warn(msg, FutureWarning)\n"
     ]
    },
    {
     "data": {
      "text/plain": [
       "<AxesSubplot:xlabel='cal_per_portion', ylabel='Density'>"
      ]
     },
     "execution_count": 31,
     "metadata": {},
     "output_type": "execute_result"
    },
    {
     "data": {
      "image/png": "[encoded data removed]",
      "text/plain": [
       "<Figure size 432x288 with 1 Axes>"
      ]
     },
     "metadata": {
      "needs_background": "light"
     },
     "output_type": "display_data"
    }
   ],
   "source": [
    "sns.distplot(USA_M_E['cal_per_portion'], bins=20)  # Shows extreme values for \"cal_per_portion\""
   ]
  },
  {
   "cell_type": "code",
   "execution_count": 32,
   "metadata": {},
   "outputs": [],
   "source": [
    "# Clean extreme values in 'cal_per_portion'\n",
    "USA_M_E = USA_M_E [USA_M_E ['cal_per_portion'] < 20000]"
   ]
  },
  {
   "cell_type": "code",
   "execution_count": 33,
   "metadata": {},
   "outputs": [
    {
     "data": {
      "text/plain": [
       "<seaborn.axisgrid.FacetGrid at 0x7f9d1383edc0>"
      ]
     },
     "execution_count": 33,
     "metadata": {},
     "output_type": "execute_result"
    },
    {
     "data": {
      "image/png": "[encoded data removed]",
      "text/plain": [
       "<Figure size 360x360 with 1 Axes>"
      ]
     },
     "metadata": {
      "needs_background": "light"
     },
     "output_type": "display_data"
    }
   ],
   "source": [
    "# Check the rating variables \n",
    "sns.displot(USA_M_E ['COVID-19 Deaths'], bins =20)"
   ]
  },
  {
   "cell_type": "code",
   "execution_count": 34,
   "metadata": {},
   "outputs": [],
   "source": [
    "# select only entries with a non-zero rating\n",
    "USA_M_E = USA_M_E [USA_M_E ['COVID-19 Deaths']>= 1]"
   ]
  },
  {
   "cell_type": "code",
   "execution_count": 35,
   "metadata": {},
   "outputs": [
    {
     "data": {
      "text/plain": [
       "OBJECTID            float64\n",
       "ID                   object\n",
       "NAME                 object\n",
       "STATE_NAME           object\n",
       "ST_ABBREV            object\n",
       "                     ...   \n",
       "Sex                  object\n",
       "Age group            object\n",
       "COVID-19 Deaths     float64\n",
       "_merge             category\n",
       "cal_per_portion     float64\n",
       "Length: 105, dtype: object"
      ]
     },
     "execution_count": 35,
     "metadata": {},
     "output_type": "execute_result"
    }
   ],
   "source": [
    "USA_M_E.dtypes"
   ]
  },
  {
   "cell_type": "code",
   "execution_count": 36,
   "metadata": {},
   "outputs": [
    {
     "data": {
      "text/plain": [
       "Index(['OBJECTID', 'ID', 'NAME', 'STATE_NAME', 'ST_ABBREV', 'State_Tape',\n",
       "       'TSEGNUM', 'TSEGCODE', 'TSEGNAME', 'THHBASE',\n",
       "       ...\n",
       "       'geometry', 'Unnamed: 0', 'Data as of', 'Start week', 'End Week', 'Sex',\n",
       "       'Age group', 'COVID-19 Deaths', '_merge', 'cal_per_portion'],\n",
       "      dtype='object', length=105)"
      ]
     },
     "execution_count": 36,
     "metadata": {},
     "output_type": "execute_result"
    }
   ],
   "source": [
    "USA_M_E.columns"
   ]
  },
  {
   "cell_type": "code",
   "execution_count": 37,
   "metadata": {},
   "outputs": [
    {
     "data": {
      "text/html": [
       "<div>\n",
       "<style scoped>\n",
       "    .dataframe tbody tr th:only-of-type {\n",
       "        vertical-align: middle;\n",
       "    }\n",
       "\n",
       "    .dataframe tbody tr th {\n",
       "        vertical-align: top;\n",
       "    }\n",
       "\n",
       "    .dataframe thead th {\n",
       "        text-align: right;\n",
       "    }\n",
       "</style>\n",
       "<table border=\"1\" class=\"dataframe\">\n",
       "  <thead>\n",
       "    <tr style=\"text-align: right;\">\n",
       "      <th></th>\n",
       "      <th>OBJECTID</th>\n",
       "      <th>ID</th>\n",
       "      <th>NAME</th>\n",
       "      <th>STATE_NAME</th>\n",
       "      <th>ST_ABBREV</th>\n",
       "      <th>State_Tape</th>\n",
       "      <th>TSEGNUM</th>\n",
       "      <th>TSEGCODE</th>\n",
       "      <th>TSEGNAME</th>\n",
       "      <th>THHBASE</th>\n",
       "      <th>...</th>\n",
       "      <th>geometry</th>\n",
       "      <th>Unnamed: 0</th>\n",
       "      <th>Data as of</th>\n",
       "      <th>Start week</th>\n",
       "      <th>End Week</th>\n",
       "      <th>Sex</th>\n",
       "      <th>Age group</th>\n",
       "      <th>COVID-19 Deaths</th>\n",
       "      <th>_merge</th>\n",
       "      <th>cal_per_portion</th>\n",
       "    </tr>\n",
       "  </thead>\n",
       "  <tbody>\n",
       "    <tr>\n",
       "      <th>3</th>\n",
       "      <td>1.0</td>\n",
       "      <td>01</td>\n",
       "      <td>Alabama</td>\n",
       "      <td>Alabama</td>\n",
       "      <td>AL</td>\n",
       "      <td>51643.786616</td>\n",
       "      <td>46.0</td>\n",
       "      <td>10A</td>\n",
       "      <td>Southern Satellites</td>\n",
       "      <td>1934031.0</td>\n",
       "      <td>...</td>\n",
       "      <td>MULTIPOLYGON (((-88.05318 30.19560, -88.05542 ...</td>\n",
       "      <td>41</td>\n",
       "      <td>08/12/2020</td>\n",
       "      <td>02/01/2020</td>\n",
       "      <td>08/08/2020</td>\n",
       "      <td>Male</td>\n",
       "      <td>15-24 years</td>\n",
       "      <td>1048.084359</td>\n",
       "      <td>both</td>\n",
       "      <td>4192.337436</td>\n",
       "    </tr>\n",
       "    <tr>\n",
       "      <th>4</th>\n",
       "      <td>1.0</td>\n",
       "      <td>01</td>\n",
       "      <td>Alabama</td>\n",
       "      <td>Alabama</td>\n",
       "      <td>AL</td>\n",
       "      <td>51643.786616</td>\n",
       "      <td>46.0</td>\n",
       "      <td>10A</td>\n",
       "      <td>Southern Satellites</td>\n",
       "      <td>1934031.0</td>\n",
       "      <td>...</td>\n",
       "      <td>MULTIPOLYGON (((-88.05318 30.19560, -88.05542 ...</td>\n",
       "      <td>42</td>\n",
       "      <td>08/12/2020</td>\n",
       "      <td>02/01/2020</td>\n",
       "      <td>08/08/2020</td>\n",
       "      <td>Male</td>\n",
       "      <td>25-34 years</td>\n",
       "      <td>1048.084359</td>\n",
       "      <td>both</td>\n",
       "      <td>4192.337436</td>\n",
       "    </tr>\n",
       "    <tr>\n",
       "      <th>5</th>\n",
       "      <td>1.0</td>\n",
       "      <td>01</td>\n",
       "      <td>Alabama</td>\n",
       "      <td>Alabama</td>\n",
       "      <td>AL</td>\n",
       "      <td>51643.786616</td>\n",
       "      <td>46.0</td>\n",
       "      <td>10A</td>\n",
       "      <td>Southern Satellites</td>\n",
       "      <td>1934031.0</td>\n",
       "      <td>...</td>\n",
       "      <td>MULTIPOLYGON (((-88.05318 30.19560, -88.05542 ...</td>\n",
       "      <td>43</td>\n",
       "      <td>08/12/2020</td>\n",
       "      <td>02/01/2020</td>\n",
       "      <td>08/08/2020</td>\n",
       "      <td>Male</td>\n",
       "      <td>35-44 years</td>\n",
       "      <td>21.000000</td>\n",
       "      <td>both</td>\n",
       "      <td>84.000000</td>\n",
       "    </tr>\n",
       "    <tr>\n",
       "      <th>6</th>\n",
       "      <td>1.0</td>\n",
       "      <td>01</td>\n",
       "      <td>Alabama</td>\n",
       "      <td>Alabama</td>\n",
       "      <td>AL</td>\n",
       "      <td>51643.786616</td>\n",
       "      <td>46.0</td>\n",
       "      <td>10A</td>\n",
       "      <td>Southern Satellites</td>\n",
       "      <td>1934031.0</td>\n",
       "      <td>...</td>\n",
       "      <td>MULTIPOLYGON (((-88.05318 30.19560, -88.05542 ...</td>\n",
       "      <td>44</td>\n",
       "      <td>08/12/2020</td>\n",
       "      <td>02/01/2020</td>\n",
       "      <td>08/08/2020</td>\n",
       "      <td>Male</td>\n",
       "      <td>45-54 years</td>\n",
       "      <td>68.000000</td>\n",
       "      <td>both</td>\n",
       "      <td>272.000000</td>\n",
       "    </tr>\n",
       "    <tr>\n",
       "      <th>7</th>\n",
       "      <td>1.0</td>\n",
       "      <td>01</td>\n",
       "      <td>Alabama</td>\n",
       "      <td>Alabama</td>\n",
       "      <td>AL</td>\n",
       "      <td>51643.786616</td>\n",
       "      <td>46.0</td>\n",
       "      <td>10A</td>\n",
       "      <td>Southern Satellites</td>\n",
       "      <td>1934031.0</td>\n",
       "      <td>...</td>\n",
       "      <td>MULTIPOLYGON (((-88.05318 30.19560, -88.05542 ...</td>\n",
       "      <td>45</td>\n",
       "      <td>08/12/2020</td>\n",
       "      <td>02/01/2020</td>\n",
       "      <td>08/08/2020</td>\n",
       "      <td>Male</td>\n",
       "      <td>55-64 years</td>\n",
       "      <td>140.000000</td>\n",
       "      <td>both</td>\n",
       "      <td>560.000000</td>\n",
       "    </tr>\n",
       "  </tbody>\n",
       "</table>\n",
       "<p>5 rows × 105 columns</p>\n",
       "</div>"
      ],
      "text/plain": [
       "   OBJECTID  ID     NAME STATE_NAME ST_ABBREV    State_Tape  TSEGNUM TSEGCODE  \\\n",
       "3       1.0  01  Alabama    Alabama        AL  51643.786616     46.0      10A   \n",
       "4       1.0  01  Alabama    Alabama        AL  51643.786616     46.0      10A   \n",
       "5       1.0  01  Alabama    Alabama        AL  51643.786616     46.0      10A   \n",
       "6       1.0  01  Alabama    Alabama        AL  51643.786616     46.0      10A   \n",
       "7       1.0  01  Alabama    Alabama        AL  51643.786616     46.0      10A   \n",
       "\n",
       "              TSEGNAME    THHBASE  ...  \\\n",
       "3  Southern Satellites  1934031.0  ...   \n",
       "4  Southern Satellites  1934031.0  ...   \n",
       "5  Southern Satellites  1934031.0  ...   \n",
       "6  Southern Satellites  1934031.0  ...   \n",
       "7  Southern Satellites  1934031.0  ...   \n",
       "\n",
       "                                            geometry  Unnamed: 0  Data as of  \\\n",
       "3  MULTIPOLYGON (((-88.05318 30.19560, -88.05542 ...          41  08/12/2020   \n",
       "4  MULTIPOLYGON (((-88.05318 30.19560, -88.05542 ...          42  08/12/2020   \n",
       "5  MULTIPOLYGON (((-88.05318 30.19560, -88.05542 ...          43  08/12/2020   \n",
       "6  MULTIPOLYGON (((-88.05318 30.19560, -88.05542 ...          44  08/12/2020   \n",
       "7  MULTIPOLYGON (((-88.05318 30.19560, -88.05542 ...          45  08/12/2020   \n",
       "\n",
       "   Start week    End Week   Sex    Age group  COVID-19 Deaths  _merge  \\\n",
       "3  02/01/2020  08/08/2020  Male  15-24 years      1048.084359    both   \n",
       "4  02/01/2020  08/08/2020  Male  25-34 years      1048.084359    both   \n",
       "5  02/01/2020  08/08/2020  Male  35-44 years        21.000000    both   \n",
       "6  02/01/2020  08/08/2020  Male  45-54 years        68.000000    both   \n",
       "7  02/01/2020  08/08/2020  Male  55-64 years       140.000000    both   \n",
       "\n",
       "   cal_per_portion  \n",
       "3      4192.337436  \n",
       "4      4192.337436  \n",
       "5        84.000000  \n",
       "6       272.000000  \n",
       "7       560.000000  \n",
       "\n",
       "[5 rows x 105 columns]"
      ]
     },
     "execution_count": 37,
     "metadata": {},
     "output_type": "execute_result"
    }
   ],
   "source": [
    "USA_M_E.head()"
   ]
  },
  {
   "cell_type": "markdown",
   "metadata": {},
   "source": [
    "#### Saving the GeoDataFrame"
   ]
  },
  {
   "cell_type": "code",
   "execution_count": 38,
   "metadata": {},
   "outputs": [],
   "source": [
    "# Its necessary to drop the categorical column; otherwise, the 'to_file' function breaks.\n",
    "USA_M_E.drop(columns =\"_merge\", inplace = True)"
   ]
  },
  {
   "cell_type": "code",
   "execution_count": 39,
   "metadata": {},
   "outputs": [],
   "source": [
    "##Save the data\n",
    "out = r\"/Users/monajafizada/Documents/DataAnalytics/A6 advanced analytics and dashboard design/Project Information/02 Data/PreparedData/Covid-19/COVID-19_Death_Counts_by_Sex__Age__and_State.shp\""
   ]
  },
  {
   "cell_type": "markdown",
   "metadata": {},
   "source": [
    "## Plotting A choropleth"
   ]
  },
  {
   "cell_type": "code",
   "execution_count": 45,
   "metadata": {},
   "outputs": [
    {
     "data": {
      "image/png": "[encoded data removed]",
      "text/plain": [
       "<Figure size 1080x1080 with 1 Axes>"
      ]
     },
     "metadata": {
      "needs_background": "light"
     },
     "output_type": "display_data"
    }
   ],
   "source": [
    "# Create a subplot with 'fig' and 'ax'\n",
    "fig, ax = plt.subplots(1, figsize = (15,15))"
   ]
  },
  {
   "cell_type": "code",
   "execution_count": 46,
   "metadata": {},
   "outputs": [
    {
     "data": {
      "image/png": "[encoded data removed]",
      "text/plain": [
       "<Figure size 432x288 with 1 Axes>"
      ]
     },
     "metadata": {
      "needs_background": "light"
     },
     "output_type": "display_data"
    }
   ],
   "source": [
    "plt.title('Covid-19 Deaths in the world', size=30)\n",
    "tl = USA_M_E.plot(column='COVID-19 Deaths',cmap='Reds',linewidth=0.6, ax=ax,edgecolor='black'); "
   ]
  },
  {
   "cell_type": "code",
   "execution_count": 47,
   "metadata": {},
   "outputs": [],
   "source": [
    "c_bar_colors = plt.cm.ScalarMappable(cmap='Reds', norm=plt.Normalize(vmin=USA_M_E['COVID-19 Deaths'].min(), vmax=USA_M_E['COVID-19 Deaths'].max()))\n",
    "\n",
    "# Plot the colorbar.\n",
    "color_bar = fig.colorbar(c_bar_colors)"
   ]
  },
  {
   "cell_type": "code",
   "execution_count": 48,
   "metadata": {},
   "outputs": [
    {
     "data": {
      "image/png": "[encoded data removed]",
      "text/plain": [
       "<Figure size 1080x1080 with 2 Axes>"
      ]
     },
     "execution_count": 48,
     "metadata": {},
     "output_type": "execute_result"
    }
   ],
   "source": [
    "tl.figure"
   ]
  }
 ],
 "metadata": {
  "kernelspec": {
   "display_name": "Python 3",
   "language": "python",
   "name": "python3"
  },
  "language_info": {
   "codemirror_mode": {
    "name": "ipython",
    "version": 3
   },
   "file_extension": ".py",
   "mimetype": "text/x-python",
   "name": "python",
   "nbconvert_exporter": "python",
   "pygments_lexer": "ipython3",
   "version": "3.8.6"
  }
 },
 "nbformat": 4,
 "nbformat_minor": 4
}
