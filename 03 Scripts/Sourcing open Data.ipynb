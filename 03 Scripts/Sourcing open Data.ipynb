{
 "cells": [
  {
   "cell_type": "markdown",
   "metadata": {},
   "source": [
    "# Sourcing Open Data"
   ]
  },
  {
   "cell_type": "code",
   "execution_count": 1,
   "metadata": {},
   "outputs": [],
   "source": [
    "# importing libraries\n",
    "import pandas as pd\n",
    "import numpy as np\n",
    "import os "
   ]
  },
  {
   "cell_type": "code",
   "execution_count": 2,
   "metadata": {},
   "outputs": [],
   "source": [
    "# Creating path \n",
    "path = r'/Users/monajafizada/Documents/DataAnalytics/A6 advanced analytics and dashboard design/Project Information'"
   ]
  },
  {
   "cell_type": "markdown",
   "metadata": {},
   "source": [
    "### Data 1"
   ]
  },
  {
   "cell_type": "code",
   "execution_count": 14,
   "metadata": {},
   "outputs": [],
   "source": [
    "# importing Covid data of deaths by sex, age and states\n",
    "Covid_Deaths_by_sex_age_States = pd.read_csv(os.path.join(path, '02 Data', 'OriginalData','covid_19', 'COVID-19_Death_Counts_by_Sex__Age__and_State.csv'), index_col = False)"
   ]
  },
  {
   "cell_type": "code",
   "execution_count": 188,
   "metadata": {},
   "outputs": [],
   "source": [
    "#exporting the data after cleaning \n",
    "Covid_Deaths_by_sex_age_States.to_csv(os.path.join(path, '02 Data', 'PreparedData','COVID-19_Death_Counts_by_Sex__Age__and_State.csv'))"
   ]
  },
  {
   "cell_type": "code",
   "execution_count": 15,
   "metadata": {},
   "outputs": [
    {
     "data": {
      "text/plain": [
       "(1416, 7)"
      ]
     },
     "execution_count": 15,
     "metadata": {},
     "output_type": "execute_result"
    }
   ],
   "source": [
    "Covid_Deaths_by_sex_age_States.shape"
   ]
  },
  {
   "cell_type": "code",
   "execution_count": 16,
   "metadata": {},
   "outputs": [
    {
     "data": {
      "text/plain": [
       "Data as of           0\n",
       "Start week           0\n",
       "End Week             0\n",
       "State                0\n",
       "Sex                  0\n",
       "Age group            0\n",
       "COVID-19 Deaths    278\n",
       "dtype: int64"
      ]
     },
     "execution_count": 16,
     "metadata": {},
     "output_type": "execute_result"
    }
   ],
   "source": [
    "# looking for missing value \n",
    "Covid_Deaths_by_sex_age_States.isnull().sum()"
   ]
  },
  {
   "cell_type": "code",
   "execution_count": 17,
   "metadata": {},
   "outputs": [],
   "source": [
    "# creating subset of the datafram containing only missing values\n",
    "df_nan = Covid_Deaths_by_sex_age_States[Covid_Deaths_by_sex_age_States['COVID-19 Deaths'].isnull()==True]"
   ]
  },
  {
   "cell_type": "code",
   "execution_count": 18,
   "metadata": {},
   "outputs": [
    {
     "data": {
      "text/html": [
       "<div>\n",
       "<style scoped>\n",
       "    .dataframe tbody tr th:only-of-type {\n",
       "        vertical-align: middle;\n",
       "    }\n",
       "\n",
       "    .dataframe tbody tr th {\n",
       "        vertical-align: top;\n",
       "    }\n",
       "\n",
       "    .dataframe thead th {\n",
       "        text-align: right;\n",
       "    }\n",
       "</style>\n",
       "<table border=\"1\" class=\"dataframe\">\n",
       "  <thead>\n",
       "    <tr style=\"text-align: right;\">\n",
       "      <th></th>\n",
       "      <th>Data as of</th>\n",
       "      <th>Start week</th>\n",
       "      <th>End Week</th>\n",
       "      <th>State</th>\n",
       "      <th>Sex</th>\n",
       "      <th>Age group</th>\n",
       "      <th>COVID-19 Deaths</th>\n",
       "    </tr>\n",
       "  </thead>\n",
       "  <tbody>\n",
       "    <tr>\n",
       "      <th>41</th>\n",
       "      <td>08/12/2020</td>\n",
       "      <td>02/01/2020</td>\n",
       "      <td>08/08/2020</td>\n",
       "      <td>Alabama</td>\n",
       "      <td>Male</td>\n",
       "      <td>15-24 years</td>\n",
       "      <td>NaN</td>\n",
       "    </tr>\n",
       "    <tr>\n",
       "      <th>42</th>\n",
       "      <td>08/12/2020</td>\n",
       "      <td>02/01/2020</td>\n",
       "      <td>08/08/2020</td>\n",
       "      <td>Alabama</td>\n",
       "      <td>Male</td>\n",
       "      <td>25-34 years</td>\n",
       "      <td>NaN</td>\n",
       "    </tr>\n",
       "    <tr>\n",
       "      <th>54</th>\n",
       "      <td>08/12/2020</td>\n",
       "      <td>02/01/2020</td>\n",
       "      <td>08/08/2020</td>\n",
       "      <td>Alabama</td>\n",
       "      <td>Female</td>\n",
       "      <td>25-34 years</td>\n",
       "      <td>NaN</td>\n",
       "    </tr>\n",
       "    <tr>\n",
       "      <th>70</th>\n",
       "      <td>08/12/2020</td>\n",
       "      <td>02/01/2020</td>\n",
       "      <td>08/08/2020</td>\n",
       "      <td>Alaska</td>\n",
       "      <td>Male</td>\n",
       "      <td>45-54 years</td>\n",
       "      <td>NaN</td>\n",
       "    </tr>\n",
       "    <tr>\n",
       "      <th>72</th>\n",
       "      <td>08/12/2020</td>\n",
       "      <td>02/01/2020</td>\n",
       "      <td>08/08/2020</td>\n",
       "      <td>Alaska</td>\n",
       "      <td>Male</td>\n",
       "      <td>65-74 years</td>\n",
       "      <td>NaN</td>\n",
       "    </tr>\n",
       "    <tr>\n",
       "      <th>...</th>\n",
       "      <td>...</td>\n",
       "      <td>...</td>\n",
       "      <td>...</td>\n",
       "      <td>...</td>\n",
       "      <td>...</td>\n",
       "      <td>...</td>\n",
       "      <td>...</td>\n",
       "    </tr>\n",
       "    <tr>\n",
       "      <th>1395</th>\n",
       "      <td>08/12/2020</td>\n",
       "      <td>02/01/2020</td>\n",
       "      <td>08/08/2020</td>\n",
       "      <td>Puerto Rico</td>\n",
       "      <td>Male</td>\n",
       "      <td>35-44 years</td>\n",
       "      <td>NaN</td>\n",
       "    </tr>\n",
       "    <tr>\n",
       "      <th>1404</th>\n",
       "      <td>08/12/2020</td>\n",
       "      <td>02/01/2020</td>\n",
       "      <td>08/08/2020</td>\n",
       "      <td>Puerto Rico</td>\n",
       "      <td>Female</td>\n",
       "      <td>5-14 years</td>\n",
       "      <td>NaN</td>\n",
       "    </tr>\n",
       "    <tr>\n",
       "      <th>1406</th>\n",
       "      <td>08/12/2020</td>\n",
       "      <td>02/01/2020</td>\n",
       "      <td>08/08/2020</td>\n",
       "      <td>Puerto Rico</td>\n",
       "      <td>Female</td>\n",
       "      <td>25-34 years</td>\n",
       "      <td>NaN</td>\n",
       "    </tr>\n",
       "    <tr>\n",
       "      <th>1407</th>\n",
       "      <td>08/12/2020</td>\n",
       "      <td>02/01/2020</td>\n",
       "      <td>08/08/2020</td>\n",
       "      <td>Puerto Rico</td>\n",
       "      <td>Female</td>\n",
       "      <td>35-44 years</td>\n",
       "      <td>NaN</td>\n",
       "    </tr>\n",
       "    <tr>\n",
       "      <th>1408</th>\n",
       "      <td>08/12/2020</td>\n",
       "      <td>02/01/2020</td>\n",
       "      <td>08/08/2020</td>\n",
       "      <td>Puerto Rico</td>\n",
       "      <td>Female</td>\n",
       "      <td>45-54 years</td>\n",
       "      <td>NaN</td>\n",
       "    </tr>\n",
       "  </tbody>\n",
       "</table>\n",
       "<p>278 rows × 7 columns</p>\n",
       "</div>"
      ],
      "text/plain": [
       "      Data as of  Start week    End Week        State     Sex    Age group  \\\n",
       "41    08/12/2020  02/01/2020  08/08/2020      Alabama    Male  15-24 years   \n",
       "42    08/12/2020  02/01/2020  08/08/2020      Alabama    Male  25-34 years   \n",
       "54    08/12/2020  02/01/2020  08/08/2020      Alabama  Female  25-34 years   \n",
       "70    08/12/2020  02/01/2020  08/08/2020       Alaska    Male  45-54 years   \n",
       "72    08/12/2020  02/01/2020  08/08/2020       Alaska    Male  65-74 years   \n",
       "...          ...         ...         ...          ...     ...          ...   \n",
       "1395  08/12/2020  02/01/2020  08/08/2020  Puerto Rico    Male  35-44 years   \n",
       "1404  08/12/2020  02/01/2020  08/08/2020  Puerto Rico  Female   5-14 years   \n",
       "1406  08/12/2020  02/01/2020  08/08/2020  Puerto Rico  Female  25-34 years   \n",
       "1407  08/12/2020  02/01/2020  08/08/2020  Puerto Rico  Female  35-44 years   \n",
       "1408  08/12/2020  02/01/2020  08/08/2020  Puerto Rico  Female  45-54 years   \n",
       "\n",
       "      COVID-19 Deaths  \n",
       "41                NaN  \n",
       "42                NaN  \n",
       "54                NaN  \n",
       "70                NaN  \n",
       "72                NaN  \n",
       "...               ...  \n",
       "1395              NaN  \n",
       "1404              NaN  \n",
       "1406              NaN  \n",
       "1407              NaN  \n",
       "1408              NaN  \n",
       "\n",
       "[278 rows x 7 columns]"
      ]
     },
     "execution_count": 18,
     "metadata": {},
     "output_type": "execute_result"
    }
   ],
   "source": [
    "df_nan"
   ]
  },
  {
   "cell_type": "code",
   "execution_count": 19,
   "metadata": {},
   "outputs": [
    {
     "data": {
      "text/html": [
       "<div>\n",
       "<style scoped>\n",
       "    .dataframe tbody tr th:only-of-type {\n",
       "        vertical-align: middle;\n",
       "    }\n",
       "\n",
       "    .dataframe tbody tr th {\n",
       "        vertical-align: top;\n",
       "    }\n",
       "\n",
       "    .dataframe thead th {\n",
       "        text-align: right;\n",
       "    }\n",
       "</style>\n",
       "<table border=\"1\" class=\"dataframe\">\n",
       "  <thead>\n",
       "    <tr style=\"text-align: right;\">\n",
       "      <th></th>\n",
       "      <th>COVID-19 Deaths</th>\n",
       "    </tr>\n",
       "  </thead>\n",
       "  <tbody>\n",
       "    <tr>\n",
       "      <th>count</th>\n",
       "      <td>1138.000000</td>\n",
       "    </tr>\n",
       "    <tr>\n",
       "      <th>mean</th>\n",
       "      <td>1048.084359</td>\n",
       "    </tr>\n",
       "    <tr>\n",
       "      <th>std</th>\n",
       "      <td>7531.272179</td>\n",
       "    </tr>\n",
       "    <tr>\n",
       "      <th>min</th>\n",
       "      <td>0.000000</td>\n",
       "    </tr>\n",
       "    <tr>\n",
       "      <th>25%</th>\n",
       "      <td>0.000000</td>\n",
       "    </tr>\n",
       "    <tr>\n",
       "      <th>50%</th>\n",
       "      <td>34.000000</td>\n",
       "    </tr>\n",
       "    <tr>\n",
       "      <th>75%</th>\n",
       "      <td>263.500000</td>\n",
       "    </tr>\n",
       "    <tr>\n",
       "      <th>max</th>\n",
       "      <td>149192.000000</td>\n",
       "    </tr>\n",
       "  </tbody>\n",
       "</table>\n",
       "</div>"
      ],
      "text/plain": [
       "       COVID-19 Deaths\n",
       "count      1138.000000\n",
       "mean       1048.084359\n",
       "std        7531.272179\n",
       "min           0.000000\n",
       "25%           0.000000\n",
       "50%          34.000000\n",
       "75%         263.500000\n",
       "max      149192.000000"
      ]
     },
     "execution_count": 19,
     "metadata": {},
     "output_type": "execute_result"
    }
   ],
   "source": [
    "# addressing missing values\n",
    "Covid_Deaths_by_sex_age_States.describe()"
   ]
  },
  {
   "cell_type": "code",
   "execution_count": 21,
   "metadata": {},
   "outputs": [],
   "source": [
    "# replacing missing value \n",
    "Covid_Deaths_by_sex_age_States['COVID-19 Deaths'].fillna(1048.084359, inplace=True)"
   ]
  },
  {
   "cell_type": "code",
   "execution_count": 22,
   "metadata": {},
   "outputs": [
    {
     "data": {
      "text/plain": [
       "Data as of         0\n",
       "Start week         0\n",
       "End Week           0\n",
       "State              0\n",
       "Sex                0\n",
       "Age group          0\n",
       "COVID-19 Deaths    0\n",
       "dtype: int64"
      ]
     },
     "execution_count": 22,
     "metadata": {},
     "output_type": "execute_result"
    }
   ],
   "source": [
    "# checking for missing values after replacing\n",
    "Covid_Deaths_by_sex_age_States.isnull().sum()"
   ]
  },
  {
   "cell_type": "code",
   "execution_count": 23,
   "metadata": {},
   "outputs": [],
   "source": [
    "df_clean = Covid_Deaths_by_sex_age_States[Covid_Deaths_by_sex_age_States['COVID-19 Deaths'].isnull()== False]"
   ]
  },
  {
   "cell_type": "code",
   "execution_count": 35,
   "metadata": {},
   "outputs": [],
   "source": [
    "# finding duplicated values\n",
    "df_dup = df_clean[df_clean.duplicated()]"
   ]
  },
  {
   "cell_type": "code",
   "execution_count": 36,
   "metadata": {},
   "outputs": [
    {
     "data": {
      "text/html": [
       "<div>\n",
       "<style scoped>\n",
       "    .dataframe tbody tr th:only-of-type {\n",
       "        vertical-align: middle;\n",
       "    }\n",
       "\n",
       "    .dataframe tbody tr th {\n",
       "        vertical-align: top;\n",
       "    }\n",
       "\n",
       "    .dataframe thead th {\n",
       "        text-align: right;\n",
       "    }\n",
       "</style>\n",
       "<table border=\"1\" class=\"dataframe\">\n",
       "  <thead>\n",
       "    <tr style=\"text-align: right;\">\n",
       "      <th></th>\n",
       "      <th>Data as of</th>\n",
       "      <th>Start week</th>\n",
       "      <th>End Week</th>\n",
       "      <th>State</th>\n",
       "      <th>Sex</th>\n",
       "      <th>Age group</th>\n",
       "      <th>COVID-19 Deaths</th>\n",
       "    </tr>\n",
       "  </thead>\n",
       "  <tbody>\n",
       "  </tbody>\n",
       "</table>\n",
       "</div>"
      ],
      "text/plain": [
       "Empty DataFrame\n",
       "Columns: [Data as of, Start week, End Week, State, Sex, Age group, COVID-19 Deaths]\n",
       "Index: []"
      ]
     },
     "execution_count": 36,
     "metadata": {},
     "output_type": "execute_result"
    }
   ],
   "source": [
    "df_dup"
   ]
  },
  {
   "cell_type": "code",
   "execution_count": 38,
   "metadata": {},
   "outputs": [
    {
     "data": {
      "text/html": [
       "<div>\n",
       "<style scoped>\n",
       "    .dataframe tbody tr th:only-of-type {\n",
       "        vertical-align: middle;\n",
       "    }\n",
       "\n",
       "    .dataframe tbody tr th {\n",
       "        vertical-align: top;\n",
       "    }\n",
       "\n",
       "    .dataframe thead th {\n",
       "        text-align: right;\n",
       "    }\n",
       "</style>\n",
       "<table border=\"1\" class=\"dataframe\">\n",
       "  <thead>\n",
       "    <tr style=\"text-align: right;\">\n",
       "      <th></th>\n",
       "      <th>Data as of</th>\n",
       "      <th>Start week</th>\n",
       "      <th>End Week</th>\n",
       "      <th>State</th>\n",
       "      <th>Sex</th>\n",
       "      <th>Age group</th>\n",
       "      <th>COVID-19 Deaths</th>\n",
       "    </tr>\n",
       "  </thead>\n",
       "  <tbody>\n",
       "    <tr>\n",
       "      <th>0</th>\n",
       "      <td>08/12/2020</td>\n",
       "      <td>02/01/2020</td>\n",
       "      <td>08/08/2020</td>\n",
       "      <td>United States</td>\n",
       "      <td>All</td>\n",
       "      <td>Under 1 year</td>\n",
       "      <td>16.0</td>\n",
       "    </tr>\n",
       "    <tr>\n",
       "      <th>1</th>\n",
       "      <td>08/12/2020</td>\n",
       "      <td>02/01/2020</td>\n",
       "      <td>08/08/2020</td>\n",
       "      <td>United States</td>\n",
       "      <td>All</td>\n",
       "      <td>1-4 years</td>\n",
       "      <td>10.0</td>\n",
       "    </tr>\n",
       "    <tr>\n",
       "      <th>2</th>\n",
       "      <td>08/12/2020</td>\n",
       "      <td>02/01/2020</td>\n",
       "      <td>08/08/2020</td>\n",
       "      <td>United States</td>\n",
       "      <td>All</td>\n",
       "      <td>5-14 years</td>\n",
       "      <td>23.0</td>\n",
       "    </tr>\n",
       "    <tr>\n",
       "      <th>3</th>\n",
       "      <td>08/12/2020</td>\n",
       "      <td>02/01/2020</td>\n",
       "      <td>08/08/2020</td>\n",
       "      <td>United States</td>\n",
       "      <td>All</td>\n",
       "      <td>15-24 years</td>\n",
       "      <td>242.0</td>\n",
       "    </tr>\n",
       "    <tr>\n",
       "      <th>4</th>\n",
       "      <td>08/12/2020</td>\n",
       "      <td>02/01/2020</td>\n",
       "      <td>08/08/2020</td>\n",
       "      <td>United States</td>\n",
       "      <td>All</td>\n",
       "      <td>25-34 years</td>\n",
       "      <td>1133.0</td>\n",
       "    </tr>\n",
       "  </tbody>\n",
       "</table>\n",
       "</div>"
      ],
      "text/plain": [
       "   Data as of  Start week    End Week          State  Sex     Age group  \\\n",
       "0  08/12/2020  02/01/2020  08/08/2020  United States  All  Under 1 year   \n",
       "1  08/12/2020  02/01/2020  08/08/2020  United States  All     1-4 years   \n",
       "2  08/12/2020  02/01/2020  08/08/2020  United States  All    5-14 years   \n",
       "3  08/12/2020  02/01/2020  08/08/2020  United States  All   15-24 years   \n",
       "4  08/12/2020  02/01/2020  08/08/2020  United States  All   25-34 years   \n",
       "\n",
       "   COVID-19 Deaths  \n",
       "0             16.0  \n",
       "1             10.0  \n",
       "2             23.0  \n",
       "3            242.0  \n",
       "4           1133.0  "
      ]
     },
     "execution_count": 38,
     "metadata": {},
     "output_type": "execute_result"
    }
   ],
   "source": [
    "Covid_Deaths_by_sex_age_States.head()"
   ]
  },
  {
   "cell_type": "code",
   "execution_count": 39,
   "metadata": {},
   "outputs": [
    {
     "data": {
      "text/plain": [
       "(1416, 7)"
      ]
     },
     "execution_count": 39,
     "metadata": {},
     "output_type": "execute_result"
    }
   ],
   "source": [
    "Covid_Deaths_by_sex_age_States.shape"
   ]
  },
  {
   "cell_type": "code",
   "execution_count": 40,
   "metadata": {
    "scrolled": true
   },
   "outputs": [
    {
     "data": {
      "text/plain": [
       "<bound method NDFrame.tail of       Data as of  Start week    End Week              State      Sex  \\\n",
       "0     08/12/2020  02/01/2020  08/08/2020      United States      All   \n",
       "1     08/12/2020  02/01/2020  08/08/2020      United States      All   \n",
       "2     08/12/2020  02/01/2020  08/08/2020      United States      All   \n",
       "3     08/12/2020  02/01/2020  08/08/2020      United States      All   \n",
       "4     08/12/2020  02/01/2020  08/08/2020      United States      All   \n",
       "...          ...         ...         ...                ...      ...   \n",
       "1411  08/12/2020  02/01/2020  08/08/2020        Puerto Rico   Female   \n",
       "1412  08/12/2020  02/01/2020  08/08/2020        Puerto Rico   Female   \n",
       "1413  08/12/2020  02/01/2020  08/08/2020        Puerto Rico   Female   \n",
       "1414  08/12/2020  02/01/2020  08/08/2020        Puerto Rico  Unknown   \n",
       "1415  08/12/2020  02/01/2020  08/08/2020  Puerto Rico Total      All   \n",
       "\n",
       "              Age group  COVID-19 Deaths  \n",
       "0          Under 1 year             16.0  \n",
       "1             1-4 years             10.0  \n",
       "2            5-14 years             23.0  \n",
       "3           15-24 years            242.0  \n",
       "4           25-34 years           1133.0  \n",
       "...                 ...              ...  \n",
       "1411        75-84 years              0.0  \n",
       "1412  85 years and over              0.0  \n",
       "1413           All ages             11.0  \n",
       "1414           All ages              0.0  \n",
       "1415           All ages             34.0  \n",
       "\n",
       "[1416 rows x 7 columns]>"
      ]
     },
     "execution_count": 40,
     "metadata": {},
     "output_type": "execute_result"
    }
   ],
   "source": [
    "Covid_Deaths_by_sex_age_States.tail"
   ]
  },
  {
   "cell_type": "code",
   "execution_count": 41,
   "metadata": {
    "scrolled": true
   },
   "outputs": [
    {
     "data": {
      "text/plain": [
       "<bound method DataFrame.info of       Data as of  Start week    End Week              State      Sex  \\\n",
       "0     08/12/2020  02/01/2020  08/08/2020      United States      All   \n",
       "1     08/12/2020  02/01/2020  08/08/2020      United States      All   \n",
       "2     08/12/2020  02/01/2020  08/08/2020      United States      All   \n",
       "3     08/12/2020  02/01/2020  08/08/2020      United States      All   \n",
       "4     08/12/2020  02/01/2020  08/08/2020      United States      All   \n",
       "...          ...         ...         ...                ...      ...   \n",
       "1411  08/12/2020  02/01/2020  08/08/2020        Puerto Rico   Female   \n",
       "1412  08/12/2020  02/01/2020  08/08/2020        Puerto Rico   Female   \n",
       "1413  08/12/2020  02/01/2020  08/08/2020        Puerto Rico   Female   \n",
       "1414  08/12/2020  02/01/2020  08/08/2020        Puerto Rico  Unknown   \n",
       "1415  08/12/2020  02/01/2020  08/08/2020  Puerto Rico Total      All   \n",
       "\n",
       "              Age group  COVID-19 Deaths  \n",
       "0          Under 1 year             16.0  \n",
       "1             1-4 years             10.0  \n",
       "2            5-14 years             23.0  \n",
       "3           15-24 years            242.0  \n",
       "4           25-34 years           1133.0  \n",
       "...                 ...              ...  \n",
       "1411        75-84 years              0.0  \n",
       "1412  85 years and over              0.0  \n",
       "1413           All ages             11.0  \n",
       "1414           All ages              0.0  \n",
       "1415           All ages             34.0  \n",
       "\n",
       "[1416 rows x 7 columns]>"
      ]
     },
     "execution_count": 41,
     "metadata": {},
     "output_type": "execute_result"
    }
   ],
   "source": [
    "Covid_Deaths_by_sex_age_States.info"
   ]
  },
  {
   "cell_type": "code",
   "execution_count": 42,
   "metadata": {},
   "outputs": [
    {
     "data": {
      "text/plain": [
       "Data as of          object\n",
       "Start week          object\n",
       "End Week            object\n",
       "State               object\n",
       "Sex                 object\n",
       "Age group           object\n",
       "COVID-19 Deaths    float64\n",
       "dtype: object"
      ]
     },
     "execution_count": 42,
     "metadata": {},
     "output_type": "execute_result"
    }
   ],
   "source": [
    "Covid_Deaths_by_sex_age_States.dtypes"
   ]
  },
  {
   "cell_type": "markdown",
   "metadata": {},
   "source": [
    "### Data 2"
   ]
  },
  {
   "cell_type": "code",
   "execution_count": 62,
   "metadata": {},
   "outputs": [],
   "source": [
    "# importing Covid data of USA by cities\n",
    "Covid_USA_City = pd.read_csv(os.path.join(path, '02 Data', 'OriginalData','covid_19', 'covid_19_usa_city.csv'), index_col = False)"
   ]
  },
  {
   "cell_type": "code",
   "execution_count": 187,
   "metadata": {},
   "outputs": [],
   "source": [
    "#exporting the data after cleaning \n",
    "Covid_USA_City.to_csv(os.path.join(path, '02 Data', 'PreparedData','covid_19_usa_city.csv'))"
   ]
  },
  {
   "cell_type": "code",
   "execution_count": 63,
   "metadata": {},
   "outputs": [
    {
     "data": {
      "text/plain": [
       "(9660, 11)"
      ]
     },
     "execution_count": 63,
     "metadata": {},
     "output_type": "execute_result"
    }
   ],
   "source": [
    "Covid_USA_City.shape"
   ]
  },
  {
   "cell_type": "code",
   "execution_count": 64,
   "metadata": {},
   "outputs": [
    {
     "data": {
      "text/html": [
       "<div>\n",
       "<style scoped>\n",
       "    .dataframe tbody tr th:only-of-type {\n",
       "        vertical-align: middle;\n",
       "    }\n",
       "\n",
       "    .dataframe tbody tr th {\n",
       "        vertical-align: top;\n",
       "    }\n",
       "\n",
       "    .dataframe thead th {\n",
       "        text-align: right;\n",
       "    }\n",
       "</style>\n",
       "<table border=\"1\" class=\"dataframe\">\n",
       "  <thead>\n",
       "    <tr style=\"text-align: right;\">\n",
       "      <th></th>\n",
       "      <th>City</th>\n",
       "      <th>Total Cases</th>\n",
       "      <th>New Cases</th>\n",
       "      <th>Total Deaths</th>\n",
       "      <th>New Deaths</th>\n",
       "      <th>Active Cases</th>\n",
       "      <th>Total Cases /1M pop</th>\n",
       "      <th>Deaths /1M pop</th>\n",
       "      <th>Total Tests</th>\n",
       "      <th>Tests /1M pop</th>\n",
       "      <th>Date</th>\n",
       "    </tr>\n",
       "  </thead>\n",
       "  <tbody>\n",
       "    <tr>\n",
       "      <th>0</th>\n",
       "      <td>New York</td>\n",
       "      <td>188694</td>\n",
       "      <td>7550.0</td>\n",
       "      <td>9385.0</td>\n",
       "      <td>758</td>\n",
       "      <td>162220</td>\n",
       "      <td>9618.0</td>\n",
       "      <td>478.0</td>\n",
       "      <td>461601.0</td>\n",
       "      <td>23,529</td>\n",
       "      <td>04-12-2020</td>\n",
       "    </tr>\n",
       "    <tr>\n",
       "      <th>1</th>\n",
       "      <td>New Jersey</td>\n",
       "      <td>61850</td>\n",
       "      <td>3699.0</td>\n",
       "      <td>2350.0</td>\n",
       "      <td>167</td>\n",
       "      <td>58818</td>\n",
       "      <td>6964.0</td>\n",
       "      <td>265.0</td>\n",
       "      <td>126735.0</td>\n",
       "      <td>14,269</td>\n",
       "      <td>04-12-2020</td>\n",
       "    </tr>\n",
       "    <tr>\n",
       "      <th>2</th>\n",
       "      <td>Michigan</td>\n",
       "      <td>23993</td>\n",
       "      <td>NaN</td>\n",
       "      <td>1392.0</td>\n",
       "      <td></td>\n",
       "      <td>22158</td>\n",
       "      <td>2410.0</td>\n",
       "      <td>140.0</td>\n",
       "      <td>76014.0</td>\n",
       "      <td>7,634</td>\n",
       "      <td>04-12-2020</td>\n",
       "    </tr>\n",
       "    <tr>\n",
       "      <th>3</th>\n",
       "      <td>Massachusetts</td>\n",
       "      <td>22860</td>\n",
       "      <td>NaN</td>\n",
       "      <td>686.0</td>\n",
       "      <td></td>\n",
       "      <td>21445</td>\n",
       "      <td>3347.0</td>\n",
       "      <td>100.0</td>\n",
       "      <td>108776.0</td>\n",
       "      <td>15,926</td>\n",
       "      <td>04-12-2020</td>\n",
       "    </tr>\n",
       "    <tr>\n",
       "      <th>4</th>\n",
       "      <td>Pennsylvania</td>\n",
       "      <td>22833</td>\n",
       "      <td>1029.0</td>\n",
       "      <td>507.0</td>\n",
       "      <td>6</td>\n",
       "      <td>21676</td>\n",
       "      <td>1785.0</td>\n",
       "      <td>40.0</td>\n",
       "      <td>124890.0</td>\n",
       "      <td>9,764</td>\n",
       "      <td>04-12-2020</td>\n",
       "    </tr>\n",
       "  </tbody>\n",
       "</table>\n",
       "</div>"
      ],
      "text/plain": [
       "             City  Total Cases  New Cases  Total Deaths New Deaths  \\\n",
       "0       New York        188694     7550.0        9385.0       758    \n",
       "1     New Jersey         61850     3699.0        2350.0       167    \n",
       "2       Michigan         23993        NaN        1392.0              \n",
       "3  Massachusetts         22860        NaN         686.0              \n",
       "4   Pennsylvania         22833     1029.0         507.0         6    \n",
       "\n",
       "  Active Cases  Total Cases /1M pop Deaths /1M pop  Total Tests Tests /1M pop  \\\n",
       "0       162220               9618.0          478.0     461601.0        23,529   \n",
       "1        58818               6964.0          265.0     126735.0        14,269   \n",
       "2        22158               2410.0          140.0      76014.0         7,634   \n",
       "3        21445               3347.0          100.0     108776.0        15,926   \n",
       "4        21676               1785.0           40.0     124890.0         9,764   \n",
       "\n",
       "         Date  \n",
       "0  04-12-2020  \n",
       "1  04-12-2020  \n",
       "2  04-12-2020  \n",
       "3  04-12-2020  \n",
       "4  04-12-2020  "
      ]
     },
     "execution_count": 64,
     "metadata": {},
     "output_type": "execute_result"
    }
   ],
   "source": [
    "Covid_USA_City.head()"
   ]
  },
  {
   "cell_type": "code",
   "execution_count": 65,
   "metadata": {},
   "outputs": [
    {
     "data": {
      "text/plain": [
       "City                      0\n",
       "Total Cases               0\n",
       "New Cases              4990\n",
       "Total Deaths             20\n",
       "New Deaths                0\n",
       "Active Cases              0\n",
       "Total Cases /1M pop    1288\n",
       "Deaths /1M pop         1290\n",
       "Total Tests             387\n",
       "Tests /1M pop          1288\n",
       "Date                      0\n",
       "dtype: int64"
      ]
     },
     "execution_count": 65,
     "metadata": {},
     "output_type": "execute_result"
    }
   ],
   "source": [
    "# looking for missing value \n",
    "Covid_USA_City.isnull().sum()"
   ]
  },
  {
   "cell_type": "code",
   "execution_count": 66,
   "metadata": {},
   "outputs": [
    {
     "data": {
      "text/html": [
       "<div>\n",
       "<style scoped>\n",
       "    .dataframe tbody tr th:only-of-type {\n",
       "        vertical-align: middle;\n",
       "    }\n",
       "\n",
       "    .dataframe tbody tr th {\n",
       "        vertical-align: top;\n",
       "    }\n",
       "\n",
       "    .dataframe thead th {\n",
       "        text-align: right;\n",
       "    }\n",
       "</style>\n",
       "<table border=\"1\" class=\"dataframe\">\n",
       "  <thead>\n",
       "    <tr style=\"text-align: right;\">\n",
       "      <th></th>\n",
       "      <th>Total Cases</th>\n",
       "      <th>New Cases</th>\n",
       "      <th>Total Deaths</th>\n",
       "      <th>Total Cases /1M pop</th>\n",
       "      <th>Total Tests</th>\n",
       "    </tr>\n",
       "  </thead>\n",
       "  <tbody>\n",
       "    <tr>\n",
       "      <th>count</th>\n",
       "      <td>9660.000000</td>\n",
       "      <td>4670.000000</td>\n",
       "      <td>9640.000000</td>\n",
       "      <td>8372.000000</td>\n",
       "      <td>9.273000e+03</td>\n",
       "    </tr>\n",
       "    <tr>\n",
       "      <th>mean</th>\n",
       "      <td>59007.056315</td>\n",
       "      <td>597.950107</td>\n",
       "      <td>2200.081950</td>\n",
       "      <td>9117.790373</td>\n",
       "      <td>7.561917e+05</td>\n",
       "    </tr>\n",
       "    <tr>\n",
       "      <th>std</th>\n",
       "      <td>107659.478924</td>\n",
       "      <td>1150.095437</td>\n",
       "      <td>4626.932336</td>\n",
       "      <td>7587.737257</td>\n",
       "      <td>1.385831e+06</td>\n",
       "    </tr>\n",
       "    <tr>\n",
       "      <th>min</th>\n",
       "      <td>3.000000</td>\n",
       "      <td>1.000000</td>\n",
       "      <td>1.000000</td>\n",
       "      <td>265.000000</td>\n",
       "      <td>0.000000e+00</td>\n",
       "    </tr>\n",
       "    <tr>\n",
       "      <th>25%</th>\n",
       "      <td>5169.750000</td>\n",
       "      <td>70.000000</td>\n",
       "      <td>104.000000</td>\n",
       "      <td>2646.750000</td>\n",
       "      <td>8.530700e+04</td>\n",
       "    </tr>\n",
       "    <tr>\n",
       "      <th>50%</th>\n",
       "      <td>20046.500000</td>\n",
       "      <td>278.500000</td>\n",
       "      <td>551.000000</td>\n",
       "      <td>6940.500000</td>\n",
       "      <td>2.861000e+05</td>\n",
       "    </tr>\n",
       "    <tr>\n",
       "      <th>75%</th>\n",
       "      <td>64365.250000</td>\n",
       "      <td>700.000000</td>\n",
       "      <td>2108.000000</td>\n",
       "      <td>14114.500000</td>\n",
       "      <td>8.172700e+05</td>\n",
       "    </tr>\n",
       "    <tr>\n",
       "      <th>max</th>\n",
       "      <td>819524.000000</td>\n",
       "      <td>15300.000000</td>\n",
       "      <td>33246.000000</td>\n",
       "      <td>35715.000000</td>\n",
       "      <td>1.470520e+07</td>\n",
       "    </tr>\n",
       "  </tbody>\n",
       "</table>\n",
       "</div>"
      ],
      "text/plain": [
       "         Total Cases     New Cases  Total Deaths  Total Cases /1M pop  \\\n",
       "count    9660.000000   4670.000000   9640.000000          8372.000000   \n",
       "mean    59007.056315    597.950107   2200.081950          9117.790373   \n",
       "std    107659.478924   1150.095437   4626.932336          7587.737257   \n",
       "min         3.000000      1.000000      1.000000           265.000000   \n",
       "25%      5169.750000     70.000000    104.000000          2646.750000   \n",
       "50%     20046.500000    278.500000    551.000000          6940.500000   \n",
       "75%     64365.250000    700.000000   2108.000000         14114.500000   \n",
       "max    819524.000000  15300.000000  33246.000000         35715.000000   \n",
       "\n",
       "        Total Tests  \n",
       "count  9.273000e+03  \n",
       "mean   7.561917e+05  \n",
       "std    1.385831e+06  \n",
       "min    0.000000e+00  \n",
       "25%    8.530700e+04  \n",
       "50%    2.861000e+05  \n",
       "75%    8.172700e+05  \n",
       "max    1.470520e+07  "
      ]
     },
     "execution_count": 66,
     "metadata": {},
     "output_type": "execute_result"
    }
   ],
   "source": [
    "Covid_USA_City.describe()"
   ]
  },
  {
   "cell_type": "code",
   "execution_count": 67,
   "metadata": {},
   "outputs": [],
   "source": [
    "# replacing missing value \n",
    "Covid_USA_City['New Cases'].fillna(597.950107, inplace=True)"
   ]
  },
  {
   "cell_type": "code",
   "execution_count": 68,
   "metadata": {},
   "outputs": [],
   "source": [
    "Covid_USA_City['Total Deaths'].fillna(59007.056315, inplace=True)"
   ]
  },
  {
   "cell_type": "code",
   "execution_count": 69,
   "metadata": {},
   "outputs": [],
   "source": [
    "Covid_USA_City['Total Cases /1M pop'].fillna(9117.790373, inplace=True)"
   ]
  },
  {
   "cell_type": "code",
   "execution_count": 70,
   "metadata": {},
   "outputs": [],
   "source": [
    "Covid_USA_City['Total Tests'].fillna(756191.7, inplace=True)"
   ]
  },
  {
   "cell_type": "code",
   "execution_count": 71,
   "metadata": {},
   "outputs": [
    {
     "data": {
      "text/plain": [
       "City                      0\n",
       "Total Cases               0\n",
       "New Cases                 0\n",
       "Total Deaths              0\n",
       "New Deaths                0\n",
       "Active Cases              0\n",
       "Total Cases /1M pop       0\n",
       "Deaths /1M pop         1290\n",
       "Total Tests               0\n",
       "Tests /1M pop          1288\n",
       "Date                      0\n",
       "dtype: int64"
      ]
     },
     "execution_count": 71,
     "metadata": {},
     "output_type": "execute_result"
    }
   ],
   "source": [
    "# Checking for the missing values after replacing values \n",
    "Covid_USA_City.isnull().sum()"
   ]
  },
  {
   "cell_type": "code",
   "execution_count": 90,
   "metadata": {},
   "outputs": [],
   "source": [
    "# droping missing values\n",
    "Covid_USA_City.dropna(inplace = True)"
   ]
  },
  {
   "cell_type": "code",
   "execution_count": 91,
   "metadata": {},
   "outputs": [
    {
     "data": {
      "text/plain": [
       "City                   0\n",
       "Total Cases            0\n",
       "New Cases              0\n",
       "Total Deaths           0\n",
       "New Deaths             0\n",
       "Active Cases           0\n",
       "Total Cases /1M pop    0\n",
       "Deaths /1M pop         0\n",
       "Total Tests            0\n",
       "Tests /1M pop          0\n",
       "Date                   0\n",
       "dtype: int64"
      ]
     },
     "execution_count": 91,
     "metadata": {},
     "output_type": "execute_result"
    }
   ],
   "source": [
    "Covid_USA_City.isnull().sum()"
   ]
  },
  {
   "cell_type": "code",
   "execution_count": 92,
   "metadata": {},
   "outputs": [
    {
     "data": {
      "text/plain": [
       "(8370, 11)"
      ]
     },
     "execution_count": 92,
     "metadata": {},
     "output_type": "execute_result"
    }
   ],
   "source": [
    "Covid_USA_City.shape"
   ]
  },
  {
   "cell_type": "code",
   "execution_count": 98,
   "metadata": {},
   "outputs": [],
   "source": [
    "clean = Covid_USA_City[Covid_USA_City.isnull()== False]"
   ]
  },
  {
   "cell_type": "code",
   "execution_count": 99,
   "metadata": {},
   "outputs": [
    {
     "data": {
      "text/html": [
       "<div>\n",
       "<style scoped>\n",
       "    .dataframe tbody tr th:only-of-type {\n",
       "        vertical-align: middle;\n",
       "    }\n",
       "\n",
       "    .dataframe tbody tr th {\n",
       "        vertical-align: top;\n",
       "    }\n",
       "\n",
       "    .dataframe thead th {\n",
       "        text-align: right;\n",
       "    }\n",
       "</style>\n",
       "<table border=\"1\" class=\"dataframe\">\n",
       "  <thead>\n",
       "    <tr style=\"text-align: right;\">\n",
       "      <th></th>\n",
       "      <th>City</th>\n",
       "      <th>Total Cases</th>\n",
       "      <th>New Cases</th>\n",
       "      <th>Total Deaths</th>\n",
       "      <th>New Deaths</th>\n",
       "      <th>Active Cases</th>\n",
       "      <th>Total Cases /1M pop</th>\n",
       "      <th>Deaths /1M pop</th>\n",
       "      <th>Total Tests</th>\n",
       "      <th>Tests /1M pop</th>\n",
       "      <th>Date</th>\n",
       "    </tr>\n",
       "  </thead>\n",
       "  <tbody>\n",
       "    <tr>\n",
       "      <th>0</th>\n",
       "      <td>New York</td>\n",
       "      <td>188694</td>\n",
       "      <td>7550.000000</td>\n",
       "      <td>9385.0</td>\n",
       "      <td>758</td>\n",
       "      <td>162220</td>\n",
       "      <td>9618.0</td>\n",
       "      <td>478.0</td>\n",
       "      <td>461601.0</td>\n",
       "      <td>23,529</td>\n",
       "      <td>04-12-2020</td>\n",
       "    </tr>\n",
       "    <tr>\n",
       "      <th>1</th>\n",
       "      <td>New Jersey</td>\n",
       "      <td>61850</td>\n",
       "      <td>3699.000000</td>\n",
       "      <td>2350.0</td>\n",
       "      <td>167</td>\n",
       "      <td>58818</td>\n",
       "      <td>6964.0</td>\n",
       "      <td>265.0</td>\n",
       "      <td>126735.0</td>\n",
       "      <td>14,269</td>\n",
       "      <td>04-12-2020</td>\n",
       "    </tr>\n",
       "    <tr>\n",
       "      <th>2</th>\n",
       "      <td>Michigan</td>\n",
       "      <td>23993</td>\n",
       "      <td>597.950107</td>\n",
       "      <td>1392.0</td>\n",
       "      <td></td>\n",
       "      <td>22158</td>\n",
       "      <td>2410.0</td>\n",
       "      <td>140.0</td>\n",
       "      <td>76014.0</td>\n",
       "      <td>7,634</td>\n",
       "      <td>04-12-2020</td>\n",
       "    </tr>\n",
       "    <tr>\n",
       "      <th>3</th>\n",
       "      <td>Massachusetts</td>\n",
       "      <td>22860</td>\n",
       "      <td>597.950107</td>\n",
       "      <td>686.0</td>\n",
       "      <td></td>\n",
       "      <td>21445</td>\n",
       "      <td>3347.0</td>\n",
       "      <td>100.0</td>\n",
       "      <td>108776.0</td>\n",
       "      <td>15,926</td>\n",
       "      <td>04-12-2020</td>\n",
       "    </tr>\n",
       "    <tr>\n",
       "      <th>4</th>\n",
       "      <td>Pennsylvania</td>\n",
       "      <td>22833</td>\n",
       "      <td>1029.000000</td>\n",
       "      <td>507.0</td>\n",
       "      <td>6</td>\n",
       "      <td>21676</td>\n",
       "      <td>1785.0</td>\n",
       "      <td>40.0</td>\n",
       "      <td>124890.0</td>\n",
       "      <td>9,764</td>\n",
       "      <td>04-12-2020</td>\n",
       "    </tr>\n",
       "    <tr>\n",
       "      <th>...</th>\n",
       "      <td>...</td>\n",
       "      <td>...</td>\n",
       "      <td>...</td>\n",
       "      <td>...</td>\n",
       "      <td>...</td>\n",
       "      <td>...</td>\n",
       "      <td>...</td>\n",
       "      <td>...</td>\n",
       "      <td>...</td>\n",
       "      <td>...</td>\n",
       "      <td>...</td>\n",
       "    </tr>\n",
       "    <tr>\n",
       "      <th>9651</th>\n",
       "      <td>New Hampshire</td>\n",
       "      <td>8266</td>\n",
       "      <td>33.000000</td>\n",
       "      <td>439.0</td>\n",
       "      <td></td>\n",
       "      <td>305</td>\n",
       "      <td>6079.0</td>\n",
       "      <td>323</td>\n",
       "      <td>304821.0</td>\n",
       "      <td>224,181</td>\n",
       "      <td>09-30-2020</td>\n",
       "    </tr>\n",
       "    <tr>\n",
       "      <th>9652</th>\n",
       "      <td>Alaska</td>\n",
       "      <td>7824</td>\n",
       "      <td>103.000000</td>\n",
       "      <td>56.0</td>\n",
       "      <td></td>\n",
       "      <td>3711</td>\n",
       "      <td>10695.0</td>\n",
       "      <td>77</td>\n",
       "      <td>457207.0</td>\n",
       "      <td>624,988</td>\n",
       "      <td>09-30-2020</td>\n",
       "    </tr>\n",
       "    <tr>\n",
       "      <th>9653</th>\n",
       "      <td>Wyoming</td>\n",
       "      <td>5948</td>\n",
       "      <td>127.000000</td>\n",
       "      <td>50.0</td>\n",
       "      <td></td>\n",
       "      <td>1107</td>\n",
       "      <td>10277.0</td>\n",
       "      <td>86</td>\n",
       "      <td>161417.0</td>\n",
       "      <td>278,902</td>\n",
       "      <td>09-30-2020</td>\n",
       "    </tr>\n",
       "    <tr>\n",
       "      <th>9654</th>\n",
       "      <td>Maine</td>\n",
       "      <td>5391</td>\n",
       "      <td>54.000000</td>\n",
       "      <td>141.0</td>\n",
       "      <td></td>\n",
       "      <td>572</td>\n",
       "      <td>4011.0</td>\n",
       "      <td>105</td>\n",
       "      <td>444931.0</td>\n",
       "      <td>330,998</td>\n",
       "      <td>09-30-2020</td>\n",
       "    </tr>\n",
       "    <tr>\n",
       "      <th>9656</th>\n",
       "      <td>Vermont</td>\n",
       "      <td>1752</td>\n",
       "      <td>3.000000</td>\n",
       "      <td>58.0</td>\n",
       "      <td></td>\n",
       "      <td>88</td>\n",
       "      <td>2808.0</td>\n",
       "      <td>93</td>\n",
       "      <td>162727.0</td>\n",
       "      <td>260,785</td>\n",
       "      <td>09-30-2020</td>\n",
       "    </tr>\n",
       "  </tbody>\n",
       "</table>\n",
       "<p>8370 rows × 11 columns</p>\n",
       "</div>"
      ],
      "text/plain": [
       "                City  Total Cases    New Cases  Total Deaths New Deaths  \\\n",
       "0          New York        188694  7550.000000        9385.0       758    \n",
       "1        New Jersey         61850  3699.000000        2350.0       167    \n",
       "2          Michigan         23993   597.950107        1392.0              \n",
       "3     Massachusetts         22860   597.950107         686.0              \n",
       "4      Pennsylvania         22833  1029.000000         507.0         6    \n",
       "...              ...          ...          ...           ...        ...   \n",
       "9651  New Hampshire          8266    33.000000         439.0              \n",
       "9652         Alaska          7824   103.000000          56.0              \n",
       "9653        Wyoming          5948   127.000000          50.0              \n",
       "9654          Maine          5391    54.000000         141.0              \n",
       "9656        Vermont          1752     3.000000          58.0              \n",
       "\n",
       "     Active Cases  Total Cases /1M pop Deaths /1M pop  Total Tests  \\\n",
       "0          162220               9618.0          478.0     461601.0   \n",
       "1           58818               6964.0          265.0     126735.0   \n",
       "2           22158               2410.0          140.0      76014.0   \n",
       "3           21445               3347.0          100.0     108776.0   \n",
       "4           21676               1785.0           40.0     124890.0   \n",
       "...           ...                  ...            ...          ...   \n",
       "9651         305                6079.0            323     304821.0   \n",
       "9652        3711               10695.0             77     457207.0   \n",
       "9653        1107               10277.0             86     161417.0   \n",
       "9654         572                4011.0            105     444931.0   \n",
       "9656          88                2808.0             93     162727.0   \n",
       "\n",
       "     Tests /1M pop        Date  \n",
       "0           23,529  04-12-2020  \n",
       "1           14,269  04-12-2020  \n",
       "2            7,634  04-12-2020  \n",
       "3           15,926  04-12-2020  \n",
       "4            9,764  04-12-2020  \n",
       "...            ...         ...  \n",
       "9651       224,181  09-30-2020  \n",
       "9652       624,988  09-30-2020  \n",
       "9653       278,902  09-30-2020  \n",
       "9654       330,998  09-30-2020  \n",
       "9656       260,785  09-30-2020  \n",
       "\n",
       "[8370 rows x 11 columns]"
      ]
     },
     "execution_count": 99,
     "metadata": {},
     "output_type": "execute_result"
    }
   ],
   "source": [
    "clean"
   ]
  },
  {
   "cell_type": "code",
   "execution_count": 100,
   "metadata": {},
   "outputs": [],
   "source": [
    "dups = clean[clean.duplicated()]"
   ]
  },
  {
   "cell_type": "markdown",
   "metadata": {},
   "source": [
    "### Data 3"
   ]
  },
  {
   "cell_type": "code",
   "execution_count": 105,
   "metadata": {},
   "outputs": [],
   "source": [
    "# importing Covid data of all country\n",
    "Covid_country = pd.read_csv(os.path.join(path, '02 Data', 'OriginalData','covid_19', 'covid_country.csv'), index_col = False)"
   ]
  },
  {
   "cell_type": "code",
   "execution_count": 186,
   "metadata": {},
   "outputs": [],
   "source": [
    "#exporting the data after cleaning \n",
    "Covid_country.to_csv(os.path.join(path, '02 Data', 'PreparedData','covid_country.csv'))"
   ]
  },
  {
   "cell_type": "code",
   "execution_count": 106,
   "metadata": {},
   "outputs": [
    {
     "data": {
      "text/plain": [
       "(34932, 14)"
      ]
     },
     "execution_count": 106,
     "metadata": {},
     "output_type": "execute_result"
    }
   ],
   "source": [
    "Covid_country.shape"
   ]
  },
  {
   "cell_type": "code",
   "execution_count": 107,
   "metadata": {},
   "outputs": [
    {
     "data": {
      "text/plain": [
       "Country                   0\n",
       "Total Cases               0\n",
       "New Cases             16951\n",
       "Total Deaths              0\n",
       "New Deaths            23741\n",
       "Total Recovered        1010\n",
       "Active Cases            500\n",
       "Serious/Critical      13668\n",
       "Total Cases/1M pop      310\n",
       "Deaths /1M pop         4967\n",
       "Total Tests            4166\n",
       "Tests /1M pop          4166\n",
       "Continent               310\n",
       "Date                      0\n",
       "dtype: int64"
      ]
     },
     "execution_count": 107,
     "metadata": {},
     "output_type": "execute_result"
    }
   ],
   "source": [
    "# looking for missing value \n",
    "Covid_country.isnull().sum()"
   ]
  },
  {
   "cell_type": "code",
   "execution_count": 108,
   "metadata": {},
   "outputs": [
    {
     "data": {
      "text/html": [
       "<div>\n",
       "<style scoped>\n",
       "    .dataframe tbody tr th:only-of-type {\n",
       "        vertical-align: middle;\n",
       "    }\n",
       "\n",
       "    .dataframe tbody tr th {\n",
       "        vertical-align: top;\n",
       "    }\n",
       "\n",
       "    .dataframe thead th {\n",
       "        text-align: right;\n",
       "    }\n",
       "</style>\n",
       "<table border=\"1\" class=\"dataframe\">\n",
       "  <thead>\n",
       "    <tr style=\"text-align: right;\">\n",
       "      <th></th>\n",
       "      <th>Total Cases</th>\n",
       "      <th>New Cases</th>\n",
       "      <th>New Deaths</th>\n",
       "      <th>Total Recovered</th>\n",
       "      <th>Active Cases</th>\n",
       "      <th>Serious/Critical</th>\n",
       "      <th>Total Cases/1M pop</th>\n",
       "      <th>Deaths /1M pop</th>\n",
       "      <th>Total Tests</th>\n",
       "      <th>Tests /1M pop</th>\n",
       "    </tr>\n",
       "  </thead>\n",
       "  <tbody>\n",
       "    <tr>\n",
       "      <th>count</th>\n",
       "      <td>3.493200e+04</td>\n",
       "      <td>17981.000000</td>\n",
       "      <td>11191.000000</td>\n",
       "      <td>3.392200e+04</td>\n",
       "      <td>3.443200e+04</td>\n",
       "      <td>21264.000000</td>\n",
       "      <td>34622.000000</td>\n",
       "      <td>29965.000000</td>\n",
       "      <td>3.076600e+04</td>\n",
       "      <td>3.076600e+04</td>\n",
       "    </tr>\n",
       "    <tr>\n",
       "      <th>mean</th>\n",
       "      <td>1.320151e+05</td>\n",
       "      <td>2072.050442</td>\n",
       "      <td>93.290591</td>\n",
       "      <td>8.539562e+04</td>\n",
       "      <td>4.178150e+04</td>\n",
       "      <td>894.676637</td>\n",
       "      <td>2494.602863</td>\n",
       "      <td>83.832219</td>\n",
       "      <td>1.086689e+06</td>\n",
       "      <td>6.706455e+04</td>\n",
       "    </tr>\n",
       "    <tr>\n",
       "      <th>std</th>\n",
       "      <td>1.222447e+06</td>\n",
       "      <td>13099.944475</td>\n",
       "      <td>422.380157</td>\n",
       "      <td>8.427015e+05</td>\n",
       "      <td>3.695752e+05</td>\n",
       "      <td>5369.876694</td>\n",
       "      <td>4689.434209</td>\n",
       "      <td>167.426666</td>\n",
       "      <td>5.792908e+06</td>\n",
       "      <td>1.638406e+05</td>\n",
       "    </tr>\n",
       "    <tr>\n",
       "      <th>min</th>\n",
       "      <td>1.000000e+00</td>\n",
       "      <td>1.000000</td>\n",
       "      <td>1.000000</td>\n",
       "      <td>1.000000e+00</td>\n",
       "      <td>-6.840000e+02</td>\n",
       "      <td>1.000000</td>\n",
       "      <td>0.030000</td>\n",
       "      <td>0.020000</td>\n",
       "      <td>1.000000e+01</td>\n",
       "      <td>4.000000e+00</td>\n",
       "    </tr>\n",
       "    <tr>\n",
       "      <th>25%</th>\n",
       "      <td>2.730000e+02</td>\n",
       "      <td>15.000000</td>\n",
       "      <td>2.000000</td>\n",
       "      <td>1.270000e+02</td>\n",
       "      <td>4.200000e+01</td>\n",
       "      <td>4.000000</td>\n",
       "      <td>138.000000</td>\n",
       "      <td>4.000000</td>\n",
       "      <td>1.000000e+04</td>\n",
       "      <td>4.507250e+03</td>\n",
       "    </tr>\n",
       "    <tr>\n",
       "      <th>50%</th>\n",
       "      <td>2.133500e+03</td>\n",
       "      <td>104.000000</td>\n",
       "      <td>6.000000</td>\n",
       "      <td>1.114500e+03</td>\n",
       "      <td>5.580000e+02</td>\n",
       "      <td>17.000000</td>\n",
       "      <td>619.000000</td>\n",
       "      <td>18.000000</td>\n",
       "      <td>8.312750e+04</td>\n",
       "      <td>1.921550e+04</td>\n",
       "    </tr>\n",
       "    <tr>\n",
       "      <th>75%</th>\n",
       "      <td>1.858925e+04</td>\n",
       "      <td>520.000000</td>\n",
       "      <td>27.000000</td>\n",
       "      <td>9.844500e+03</td>\n",
       "      <td>4.773250e+03</td>\n",
       "      <td>124.000000</td>\n",
       "      <td>2878.750000</td>\n",
       "      <td>71.000000</td>\n",
       "      <td>4.484055e+05</td>\n",
       "      <td>6.238150e+04</td>\n",
       "    </tr>\n",
       "    <tr>\n",
       "      <th>max</th>\n",
       "      <td>3.414980e+07</td>\n",
       "      <td>317951.000000</td>\n",
       "      <td>7716.000000</td>\n",
       "      <td>2.542227e+07</td>\n",
       "      <td>7.709313e+06</td>\n",
       "      <td>66596.000000</td>\n",
       "      <td>44789.000000</td>\n",
       "      <td>1326.000000</td>\n",
       "      <td>1.600000e+08</td>\n",
       "      <td>2.656757e+06</td>\n",
       "    </tr>\n",
       "  </tbody>\n",
       "</table>\n",
       "</div>"
      ],
      "text/plain": [
       "        Total Cases      New Cases    New Deaths  Total Recovered  \\\n",
       "count  3.493200e+04   17981.000000  11191.000000     3.392200e+04   \n",
       "mean   1.320151e+05    2072.050442     93.290591     8.539562e+04   \n",
       "std    1.222447e+06   13099.944475    422.380157     8.427015e+05   \n",
       "min    1.000000e+00       1.000000      1.000000     1.000000e+00   \n",
       "25%    2.730000e+02      15.000000      2.000000     1.270000e+02   \n",
       "50%    2.133500e+03     104.000000      6.000000     1.114500e+03   \n",
       "75%    1.858925e+04     520.000000     27.000000     9.844500e+03   \n",
       "max    3.414980e+07  317951.000000   7716.000000     2.542227e+07   \n",
       "\n",
       "       Active Cases  Serious/Critical  Total Cases/1M pop  Deaths /1M pop  \\\n",
       "count  3.443200e+04      21264.000000        34622.000000    29965.000000   \n",
       "mean   4.178150e+04        894.676637         2494.602863       83.832219   \n",
       "std    3.695752e+05       5369.876694         4689.434209      167.426666   \n",
       "min   -6.840000e+02          1.000000            0.030000        0.020000   \n",
       "25%    4.200000e+01          4.000000          138.000000        4.000000   \n",
       "50%    5.580000e+02         17.000000          619.000000       18.000000   \n",
       "75%    4.773250e+03        124.000000         2878.750000       71.000000   \n",
       "max    7.709313e+06      66596.000000        44789.000000     1326.000000   \n",
       "\n",
       "        Total Tests  Tests /1M pop  \n",
       "count  3.076600e+04   3.076600e+04  \n",
       "mean   1.086689e+06   6.706455e+04  \n",
       "std    5.792908e+06   1.638406e+05  \n",
       "min    1.000000e+01   4.000000e+00  \n",
       "25%    1.000000e+04   4.507250e+03  \n",
       "50%    8.312750e+04   1.921550e+04  \n",
       "75%    4.484055e+05   6.238150e+04  \n",
       "max    1.600000e+08   2.656757e+06  "
      ]
     },
     "execution_count": 108,
     "metadata": {},
     "output_type": "execute_result"
    }
   ],
   "source": [
    "Covid_country.describe()"
   ]
  },
  {
   "cell_type": "code",
   "execution_count": 109,
   "metadata": {},
   "outputs": [],
   "source": [
    "# replacing missing value \n",
    "Covid_country['New Cases'].fillna(2072.050442, inplace=True)"
   ]
  },
  {
   "cell_type": "code",
   "execution_count": 110,
   "metadata": {},
   "outputs": [],
   "source": [
    "Covid_country['New Deaths'].fillna(93.290591, inplace=True)"
   ]
  },
  {
   "cell_type": "code",
   "execution_count": 111,
   "metadata": {},
   "outputs": [],
   "source": [
    "Covid_country['Total Recovered'].fillna(85395.62, inplace=True)"
   ]
  },
  {
   "cell_type": "code",
   "execution_count": 112,
   "metadata": {},
   "outputs": [],
   "source": [
    "Covid_country['Active Cases'].fillna(41781.50, inplace=True)"
   ]
  },
  {
   "cell_type": "code",
   "execution_count": 113,
   "metadata": {},
   "outputs": [],
   "source": [
    "Covid_country['Serious/Critical'].fillna(894.676637, inplace=True)"
   ]
  },
  {
   "cell_type": "code",
   "execution_count": 114,
   "metadata": {},
   "outputs": [],
   "source": [
    "Covid_country['Total Cases/1M pop'].fillna(2494.602863, inplace=True)"
   ]
  },
  {
   "cell_type": "code",
   "execution_count": 115,
   "metadata": {},
   "outputs": [],
   "source": [
    "Covid_country['Deaths /1M pop'].fillna(83.832219, inplace=True)"
   ]
  },
  {
   "cell_type": "code",
   "execution_count": 116,
   "metadata": {},
   "outputs": [],
   "source": [
    "Covid_country['Total Tests'].fillna(1086689., inplace=True)"
   ]
  },
  {
   "cell_type": "code",
   "execution_count": 54,
   "metadata": {},
   "outputs": [],
   "source": [
    "Covid_country['Tests /1M pop'].fillna(67064.55, inplace=True)"
   ]
  },
  {
   "cell_type": "code",
   "execution_count": 117,
   "metadata": {},
   "outputs": [
    {
     "data": {
      "text/plain": [
       "Country                  0\n",
       "Total Cases              0\n",
       "New Cases                0\n",
       "Total Deaths             0\n",
       "New Deaths               0\n",
       "Total Recovered          0\n",
       "Active Cases             0\n",
       "Serious/Critical         0\n",
       "Total Cases/1M pop       0\n",
       "Deaths /1M pop           0\n",
       "Total Tests              0\n",
       "Tests /1M pop         4166\n",
       "Continent              310\n",
       "Date                     0\n",
       "dtype: int64"
      ]
     },
     "execution_count": 117,
     "metadata": {},
     "output_type": "execute_result"
    }
   ],
   "source": [
    "Covid_country.isnull().sum()"
   ]
  },
  {
   "cell_type": "code",
   "execution_count": 118,
   "metadata": {},
   "outputs": [],
   "source": [
    "# droping missing values\n",
    "Covid_country.dropna(inplace = True)"
   ]
  },
  {
   "cell_type": "code",
   "execution_count": 121,
   "metadata": {},
   "outputs": [
    {
     "data": {
      "text/plain": [
       "Country               0\n",
       "Total Cases           0\n",
       "New Cases             0\n",
       "Total Deaths          0\n",
       "New Deaths            0\n",
       "Total Recovered       0\n",
       "Active Cases          0\n",
       "Serious/Critical      0\n",
       "Total Cases/1M pop    0\n",
       "Deaths /1M pop        0\n",
       "Total Tests           0\n",
       "Tests /1M pop         0\n",
       "Continent             0\n",
       "Date                  0\n",
       "dtype: int64"
      ]
     },
     "execution_count": 121,
     "metadata": {},
     "output_type": "execute_result"
    }
   ],
   "source": [
    "Covid_country.isnull().sum()"
   ]
  },
  {
   "cell_type": "code",
   "execution_count": 122,
   "metadata": {},
   "outputs": [
    {
     "data": {
      "text/plain": [
       "(30766, 14)"
      ]
     },
     "execution_count": 122,
     "metadata": {},
     "output_type": "execute_result"
    }
   ],
   "source": [
    "Covid_country.shape"
   ]
  },
  {
   "cell_type": "markdown",
   "metadata": {},
   "source": [
    "### Data 4"
   ]
  },
  {
   "cell_type": "code",
   "execution_count": 123,
   "metadata": {},
   "outputs": [],
   "source": [
    "# importing general Covid data \n",
    "Covid_Data = pd.read_csv(os.path.join(path, '02 Data', 'OriginalData','covid_19', 'C19_data.csv'), index_col = False)"
   ]
  },
  {
   "cell_type": "code",
   "execution_count": 185,
   "metadata": {},
   "outputs": [],
   "source": [
    "#exporting the data after cleaning \n",
    "Covid_Data.to_csv(os.path.join(path, '02 Data', 'PreparedData','C19_data.csv'))"
   ]
  },
  {
   "cell_type": "code",
   "execution_count": 124,
   "metadata": {},
   "outputs": [
    {
     "data": {
      "text/plain": [
       "(116805, 8)"
      ]
     },
     "execution_count": 124,
     "metadata": {},
     "output_type": "execute_result"
    }
   ],
   "source": [
    "Covid_Data.shape"
   ]
  },
  {
   "cell_type": "code",
   "execution_count": 125,
   "metadata": {},
   "outputs": [
    {
     "data": {
      "text/plain": [
       "SNo                    0\n",
       "ObservationDate        0\n",
       "Province/State     35353\n",
       "Country/Region         0\n",
       "Last Update            0\n",
       "Confirmed              0\n",
       "Deaths                 0\n",
       "Recovered              0\n",
       "dtype: int64"
      ]
     },
     "execution_count": 125,
     "metadata": {},
     "output_type": "execute_result"
    }
   ],
   "source": [
    "# looking for missing value \n",
    "Covid_Data.isnull().sum()"
   ]
  },
  {
   "cell_type": "code",
   "execution_count": 126,
   "metadata": {},
   "outputs": [
    {
     "data": {
      "text/html": [
       "<div>\n",
       "<style scoped>\n",
       "    .dataframe tbody tr th:only-of-type {\n",
       "        vertical-align: middle;\n",
       "    }\n",
       "\n",
       "    .dataframe tbody tr th {\n",
       "        vertical-align: top;\n",
       "    }\n",
       "\n",
       "    .dataframe thead th {\n",
       "        text-align: right;\n",
       "    }\n",
       "</style>\n",
       "<table border=\"1\" class=\"dataframe\">\n",
       "  <thead>\n",
       "    <tr style=\"text-align: right;\">\n",
       "      <th></th>\n",
       "      <th>SNo</th>\n",
       "      <th>Confirmed</th>\n",
       "      <th>Deaths</th>\n",
       "      <th>Recovered</th>\n",
       "    </tr>\n",
       "  </thead>\n",
       "  <tbody>\n",
       "    <tr>\n",
       "      <th>count</th>\n",
       "      <td>116805.000000</td>\n",
       "      <td>1.168050e+05</td>\n",
       "      <td>116805.000000</td>\n",
       "      <td>1.168050e+05</td>\n",
       "    </tr>\n",
       "    <tr>\n",
       "      <th>mean</th>\n",
       "      <td>58403.000000</td>\n",
       "      <td>1.908217e+04</td>\n",
       "      <td>777.745473</td>\n",
       "      <td>1.117002e+04</td>\n",
       "    </tr>\n",
       "    <tr>\n",
       "      <th>std</th>\n",
       "      <td>33718.843434</td>\n",
       "      <td>5.825465e+04</td>\n",
       "      <td>2859.184068</td>\n",
       "      <td>6.258701e+04</td>\n",
       "    </tr>\n",
       "    <tr>\n",
       "      <th>min</th>\n",
       "      <td>1.000000</td>\n",
       "      <td>0.000000e+00</td>\n",
       "      <td>0.000000</td>\n",
       "      <td>0.000000e+00</td>\n",
       "    </tr>\n",
       "    <tr>\n",
       "      <th>25%</th>\n",
       "      <td>29202.000000</td>\n",
       "      <td>2.450000e+02</td>\n",
       "      <td>3.000000</td>\n",
       "      <td>4.000000e+00</td>\n",
       "    </tr>\n",
       "    <tr>\n",
       "      <th>50%</th>\n",
       "      <td>58403.000000</td>\n",
       "      <td>2.148000e+03</td>\n",
       "      <td>42.000000</td>\n",
       "      <td>4.260000e+02</td>\n",
       "    </tr>\n",
       "    <tr>\n",
       "      <th>75%</th>\n",
       "      <td>87604.000000</td>\n",
       "      <td>1.037400e+04</td>\n",
       "      <td>331.000000</td>\n",
       "      <td>3.829000e+03</td>\n",
       "    </tr>\n",
       "    <tr>\n",
       "      <th>max</th>\n",
       "      <td>116805.000000</td>\n",
       "      <td>1.242770e+06</td>\n",
       "      <td>42072.000000</td>\n",
       "      <td>2.670256e+06</td>\n",
       "    </tr>\n",
       "  </tbody>\n",
       "</table>\n",
       "</div>"
      ],
      "text/plain": [
       "                 SNo     Confirmed         Deaths     Recovered\n",
       "count  116805.000000  1.168050e+05  116805.000000  1.168050e+05\n",
       "mean    58403.000000  1.908217e+04     777.745473  1.117002e+04\n",
       "std     33718.843434  5.825465e+04    2859.184068  6.258701e+04\n",
       "min         1.000000  0.000000e+00       0.000000  0.000000e+00\n",
       "25%     29202.000000  2.450000e+02       3.000000  4.000000e+00\n",
       "50%     58403.000000  2.148000e+03      42.000000  4.260000e+02\n",
       "75%     87604.000000  1.037400e+04     331.000000  3.829000e+03\n",
       "max    116805.000000  1.242770e+06   42072.000000  2.670256e+06"
      ]
     },
     "execution_count": 126,
     "metadata": {},
     "output_type": "execute_result"
    }
   ],
   "source": [
    "Covid_Data.describe()"
   ]
  },
  {
   "cell_type": "code",
   "execution_count": 127,
   "metadata": {},
   "outputs": [],
   "source": [
    "# droping missing values\n",
    "Covid_Data.dropna(inplace = True)"
   ]
  },
  {
   "cell_type": "code",
   "execution_count": 128,
   "metadata": {},
   "outputs": [
    {
     "data": {
      "text/plain": [
       "SNo                0\n",
       "ObservationDate    0\n",
       "Province/State     0\n",
       "Country/Region     0\n",
       "Last Update        0\n",
       "Confirmed          0\n",
       "Deaths             0\n",
       "Recovered          0\n",
       "dtype: int64"
      ]
     },
     "execution_count": 128,
     "metadata": {},
     "output_type": "execute_result"
    }
   ],
   "source": [
    "# looking for missing value \n",
    "Covid_Data.isnull().sum()"
   ]
  },
  {
   "cell_type": "code",
   "execution_count": 129,
   "metadata": {},
   "outputs": [
    {
     "data": {
      "text/plain": [
       "(81452, 8)"
      ]
     },
     "execution_count": 129,
     "metadata": {},
     "output_type": "execute_result"
    }
   ],
   "source": [
    "Covid_Data.shape"
   ]
  },
  {
   "cell_type": "markdown",
   "metadata": {},
   "source": [
    "### Data 5"
   ]
  },
  {
   "cell_type": "code",
   "execution_count": 130,
   "metadata": {},
   "outputs": [],
   "source": [
    "# importing general Covid data of the world\n",
    "Covid_open_line = pd.read_csv(os.path.join(path, '02 Data', 'OriginalData','covid_19', 'C19_open_line_list.csv'), index_col = False)"
   ]
  },
  {
   "cell_type": "code",
   "execution_count": 184,
   "metadata": {},
   "outputs": [],
   "source": [
    "#exporting the data after cleaning \n",
    "Covid_open_line.to_csv(os.path.join(path, '02 Data', 'PreparedData','C19_open_line_list.csv'))"
   ]
  },
  {
   "cell_type": "code",
   "execution_count": 131,
   "metadata": {},
   "outputs": [
    {
     "data": {
      "text/plain": [
       "(13174, 33)"
      ]
     },
     "execution_count": 131,
     "metadata": {},
     "output_type": "execute_result"
    }
   ],
   "source": [
    "Covid_open_line.shape"
   ]
  },
  {
   "cell_type": "code",
   "execution_count": 134,
   "metadata": {
    "scrolled": true
   },
   "outputs": [
    {
     "data": {
      "text/html": [
       "<div>\n",
       "<style scoped>\n",
       "    .dataframe tbody tr th:only-of-type {\n",
       "        vertical-align: middle;\n",
       "    }\n",
       "\n",
       "    .dataframe tbody tr th {\n",
       "        vertical-align: top;\n",
       "    }\n",
       "\n",
       "    .dataframe thead th {\n",
       "        text-align: right;\n",
       "    }\n",
       "</style>\n",
       "<table border=\"1\" class=\"dataframe\">\n",
       "  <thead>\n",
       "    <tr style=\"text-align: right;\">\n",
       "      <th></th>\n",
       "      <th>ID</th>\n",
       "      <th>age</th>\n",
       "      <th>sex</th>\n",
       "      <th>city</th>\n",
       "      <th>province</th>\n",
       "      <th>country</th>\n",
       "      <th>wuhan(0)_not_wuhan(1)</th>\n",
       "      <th>latitude</th>\n",
       "      <th>longitude</th>\n",
       "      <th>geo_resolution</th>\n",
       "      <th>...</th>\n",
       "      <th>outcome</th>\n",
       "      <th>date_death_or_discharge</th>\n",
       "      <th>notes_for_discussion</th>\n",
       "      <th>location</th>\n",
       "      <th>admin3</th>\n",
       "      <th>admin2</th>\n",
       "      <th>admin1</th>\n",
       "      <th>country_new</th>\n",
       "      <th>admin_id</th>\n",
       "      <th>data_moderator_initials</th>\n",
       "    </tr>\n",
       "  </thead>\n",
       "  <tbody>\n",
       "    <tr>\n",
       "      <th>0</th>\n",
       "      <td>1.0</td>\n",
       "      <td>30</td>\n",
       "      <td>male</td>\n",
       "      <td>Chaohu City, Hefei City</td>\n",
       "      <td>Anhui</td>\n",
       "      <td>China</td>\n",
       "      <td>1.0</td>\n",
       "      <td>31.646960</td>\n",
       "      <td>117.716600</td>\n",
       "      <td>admin3</td>\n",
       "      <td>...</td>\n",
       "      <td>NaN</td>\n",
       "      <td>NaN</td>\n",
       "      <td>NaN</td>\n",
       "      <td>NaN</td>\n",
       "      <td>Chaohu City</td>\n",
       "      <td>Hefei City</td>\n",
       "      <td>Anhui</td>\n",
       "      <td>China</td>\n",
       "      <td>340181</td>\n",
       "      <td>NaN</td>\n",
       "    </tr>\n",
       "    <tr>\n",
       "      <th>1</th>\n",
       "      <td>2.0</td>\n",
       "      <td>47</td>\n",
       "      <td>male</td>\n",
       "      <td>Baohe District, Hefei City</td>\n",
       "      <td>Anhui</td>\n",
       "      <td>China</td>\n",
       "      <td>1.0</td>\n",
       "      <td>31.778630</td>\n",
       "      <td>117.331900</td>\n",
       "      <td>admin3</td>\n",
       "      <td>...</td>\n",
       "      <td>NaN</td>\n",
       "      <td>NaN</td>\n",
       "      <td>NaN</td>\n",
       "      <td>NaN</td>\n",
       "      <td>Baohe District</td>\n",
       "      <td>Hefei City</td>\n",
       "      <td>Anhui</td>\n",
       "      <td>China</td>\n",
       "      <td>340111</td>\n",
       "      <td>NaN</td>\n",
       "    </tr>\n",
       "    <tr>\n",
       "      <th>2</th>\n",
       "      <td>3.0</td>\n",
       "      <td>49</td>\n",
       "      <td>male</td>\n",
       "      <td>High-Tech Zone, Hefei City</td>\n",
       "      <td>Anhui</td>\n",
       "      <td>China</td>\n",
       "      <td>1.0</td>\n",
       "      <td>31.828313</td>\n",
       "      <td>117.224844</td>\n",
       "      <td>point</td>\n",
       "      <td>...</td>\n",
       "      <td>NaN</td>\n",
       "      <td>NaN</td>\n",
       "      <td>NaN</td>\n",
       "      <td>High-Tech Zone</td>\n",
       "      <td>Shushan District</td>\n",
       "      <td>Hefei City</td>\n",
       "      <td>Anhui</td>\n",
       "      <td>China</td>\n",
       "      <td>340104</td>\n",
       "      <td>NaN</td>\n",
       "    </tr>\n",
       "    <tr>\n",
       "      <th>3</th>\n",
       "      <td>4.0</td>\n",
       "      <td>47</td>\n",
       "      <td>female</td>\n",
       "      <td>High-Tech Zone, Hefei City</td>\n",
       "      <td>Anhui</td>\n",
       "      <td>China</td>\n",
       "      <td>1.0</td>\n",
       "      <td>31.828313</td>\n",
       "      <td>117.224844</td>\n",
       "      <td>point</td>\n",
       "      <td>...</td>\n",
       "      <td>NaN</td>\n",
       "      <td>NaN</td>\n",
       "      <td>NaN</td>\n",
       "      <td>High-Tech Zone</td>\n",
       "      <td>Shushan District</td>\n",
       "      <td>Hefei City</td>\n",
       "      <td>Anhui</td>\n",
       "      <td>China</td>\n",
       "      <td>340104</td>\n",
       "      <td>NaN</td>\n",
       "    </tr>\n",
       "    <tr>\n",
       "      <th>4</th>\n",
       "      <td>5.0</td>\n",
       "      <td>50</td>\n",
       "      <td>female</td>\n",
       "      <td>Feidong County, Hefei City</td>\n",
       "      <td>Anhui</td>\n",
       "      <td>China</td>\n",
       "      <td>1.0</td>\n",
       "      <td>32.001230</td>\n",
       "      <td>117.568100</td>\n",
       "      <td>admin3</td>\n",
       "      <td>...</td>\n",
       "      <td>NaN</td>\n",
       "      <td>NaN</td>\n",
       "      <td>NaN</td>\n",
       "      <td>NaN</td>\n",
       "      <td>Feidong County</td>\n",
       "      <td>Hefei City</td>\n",
       "      <td>Anhui</td>\n",
       "      <td>China</td>\n",
       "      <td>340122</td>\n",
       "      <td>NaN</td>\n",
       "    </tr>\n",
       "  </tbody>\n",
       "</table>\n",
       "<p>5 rows × 33 columns</p>\n",
       "</div>"
      ],
      "text/plain": [
       "    ID age     sex                        city province country  \\\n",
       "0  1.0  30    male     Chaohu City, Hefei City    Anhui   China   \n",
       "1  2.0  47    male  Baohe District, Hefei City    Anhui   China   \n",
       "2  3.0  49    male  High-Tech Zone, Hefei City    Anhui   China   \n",
       "3  4.0  47  female  High-Tech Zone, Hefei City    Anhui   China   \n",
       "4  5.0  50  female  Feidong County, Hefei City    Anhui   China   \n",
       "\n",
       "   wuhan(0)_not_wuhan(1)   latitude   longitude geo_resolution  ... outcome  \\\n",
       "0                    1.0  31.646960  117.716600         admin3  ...     NaN   \n",
       "1                    1.0  31.778630  117.331900         admin3  ...     NaN   \n",
       "2                    1.0  31.828313  117.224844          point  ...     NaN   \n",
       "3                    1.0  31.828313  117.224844          point  ...     NaN   \n",
       "4                    1.0  32.001230  117.568100         admin3  ...     NaN   \n",
       "\n",
       "  date_death_or_discharge notes_for_discussion        location  \\\n",
       "0                     NaN                  NaN             NaN   \n",
       "1                     NaN                  NaN             NaN   \n",
       "2                     NaN                  NaN  High-Tech Zone   \n",
       "3                     NaN                  NaN  High-Tech Zone   \n",
       "4                     NaN                  NaN             NaN   \n",
       "\n",
       "             admin3      admin2 admin1 country_new admin_id  \\\n",
       "0       Chaohu City  Hefei City  Anhui       China   340181   \n",
       "1    Baohe District  Hefei City  Anhui       China   340111   \n",
       "2  Shushan District  Hefei City  Anhui       China   340104   \n",
       "3  Shushan District  Hefei City  Anhui       China   340104   \n",
       "4    Feidong County  Hefei City  Anhui       China   340122   \n",
       "\n",
       "   data_moderator_initials  \n",
       "0                      NaN  \n",
       "1                      NaN  \n",
       "2                      NaN  \n",
       "3                      NaN  \n",
       "4                      NaN  \n",
       "\n",
       "[5 rows x 33 columns]"
      ]
     },
     "execution_count": 134,
     "metadata": {},
     "output_type": "execute_result"
    }
   ],
   "source": [
    "Covid_open_line.head()"
   ]
  },
  {
   "cell_type": "code",
   "execution_count": 132,
   "metadata": {},
   "outputs": [],
   "source": [
    "# looking for missing value\n",
    "Clean_5 = Covid_open_line.isnull().sum()"
   ]
  },
  {
   "cell_type": "code",
   "execution_count": 135,
   "metadata": {
    "scrolled": true
   },
   "outputs": [
    {
     "data": {
      "text/plain": [
       "ID                              1\n",
       "age                         11825\n",
       "sex                         11910\n",
       "city                         2980\n",
       "province                      268\n",
       "country                        26\n",
       "wuhan(0)_not_wuhan(1)           4\n",
       "latitude                       27\n",
       "longitude                      27\n",
       "geo_resolution                 27\n",
       "date_onset_symptoms         12428\n",
       "date_admission_hospital     12444\n",
       "date_confirmation              85\n",
       "symptoms                    12681\n",
       "lives_in_Wuhan              12609\n",
       "travel_history_dates        12671\n",
       "travel_history_location     12416\n",
       "reported_market_exposure    13139\n",
       "additional_information      10762\n",
       "chronic_disease_binary      13156\n",
       "chronic_disease             13161\n",
       "source                        224\n",
       "sequence_available          13173\n",
       "outcome                     12990\n",
       "date_death_or_discharge     13081\n",
       "notes_for_discussion        12987\n",
       "location                    12150\n",
       "admin3                      12015\n",
       "admin2                       4106\n",
       "admin1                        297\n",
       "country_new                    95\n",
       "admin_id                       71\n",
       "data_moderator_initials     13157\n",
       "dtype: int64"
      ]
     },
     "execution_count": 135,
     "metadata": {},
     "output_type": "execute_result"
    }
   ],
   "source": [
    "Clean_5"
   ]
  },
  {
   "cell_type": "code",
   "execution_count": 136,
   "metadata": {},
   "outputs": [
    {
     "data": {
      "text/html": [
       "<div>\n",
       "<style scoped>\n",
       "    .dataframe tbody tr th:only-of-type {\n",
       "        vertical-align: middle;\n",
       "    }\n",
       "\n",
       "    .dataframe tbody tr th {\n",
       "        vertical-align: top;\n",
       "    }\n",
       "\n",
       "    .dataframe thead th {\n",
       "        text-align: right;\n",
       "    }\n",
       "</style>\n",
       "<table border=\"1\" class=\"dataframe\">\n",
       "  <thead>\n",
       "    <tr style=\"text-align: right;\">\n",
       "      <th></th>\n",
       "      <th>ID</th>\n",
       "      <th>wuhan(0)_not_wuhan(1)</th>\n",
       "      <th>latitude</th>\n",
       "      <th>longitude</th>\n",
       "      <th>chronic_disease_binary</th>\n",
       "    </tr>\n",
       "  </thead>\n",
       "  <tbody>\n",
       "    <tr>\n",
       "      <th>count</th>\n",
       "      <td>13173.000000</td>\n",
       "      <td>13170.0</td>\n",
       "      <td>13147.000000</td>\n",
       "      <td>13147.000000</td>\n",
       "      <td>18.000000</td>\n",
       "    </tr>\n",
       "    <tr>\n",
       "      <th>mean</th>\n",
       "      <td>6769.250436</td>\n",
       "      <td>1.0</td>\n",
       "      <td>31.994650</td>\n",
       "      <td>110.495353</td>\n",
       "      <td>0.722222</td>\n",
       "    </tr>\n",
       "    <tr>\n",
       "      <th>std</th>\n",
       "      <td>3920.886020</td>\n",
       "      <td>0.0</td>\n",
       "      <td>7.536335</td>\n",
       "      <td>27.985144</td>\n",
       "      <td>0.460889</td>\n",
       "    </tr>\n",
       "    <tr>\n",
       "      <th>min</th>\n",
       "      <td>1.000000</td>\n",
       "      <td>1.0</td>\n",
       "      <td>-37.813600</td>\n",
       "      <td>-124.953070</td>\n",
       "      <td>0.000000</td>\n",
       "    </tr>\n",
       "    <tr>\n",
       "      <th>25%</th>\n",
       "      <td>3351.000000</td>\n",
       "      <td>1.0</td>\n",
       "      <td>27.905380</td>\n",
       "      <td>111.729600</td>\n",
       "      <td>0.250000</td>\n",
       "    </tr>\n",
       "    <tr>\n",
       "      <th>50%</th>\n",
       "      <td>6865.000000</td>\n",
       "      <td>1.0</td>\n",
       "      <td>31.759410</td>\n",
       "      <td>115.441800</td>\n",
       "      <td>1.000000</td>\n",
       "    </tr>\n",
       "    <tr>\n",
       "      <th>75%</th>\n",
       "      <td>10180.000000</td>\n",
       "      <td>1.0</td>\n",
       "      <td>35.781340</td>\n",
       "      <td>120.440400</td>\n",
       "      <td>1.000000</td>\n",
       "    </tr>\n",
       "    <tr>\n",
       "      <th>max</th>\n",
       "      <td>13479.000000</td>\n",
       "      <td>1.0</td>\n",
       "      <td>69.649468</td>\n",
       "      <td>153.400000</td>\n",
       "      <td>1.000000</td>\n",
       "    </tr>\n",
       "  </tbody>\n",
       "</table>\n",
       "</div>"
      ],
      "text/plain": [
       "                 ID  wuhan(0)_not_wuhan(1)      latitude     longitude  \\\n",
       "count  13173.000000                13170.0  13147.000000  13147.000000   \n",
       "mean    6769.250436                    1.0     31.994650    110.495353   \n",
       "std     3920.886020                    0.0      7.536335     27.985144   \n",
       "min        1.000000                    1.0    -37.813600   -124.953070   \n",
       "25%     3351.000000                    1.0     27.905380    111.729600   \n",
       "50%     6865.000000                    1.0     31.759410    115.441800   \n",
       "75%    10180.000000                    1.0     35.781340    120.440400   \n",
       "max    13479.000000                    1.0     69.649468    153.400000   \n",
       "\n",
       "       chronic_disease_binary  \n",
       "count               18.000000  \n",
       "mean                 0.722222  \n",
       "std                  0.460889  \n",
       "min                  0.000000  \n",
       "25%                  0.250000  \n",
       "50%                  1.000000  \n",
       "75%                  1.000000  \n",
       "max                  1.000000  "
      ]
     },
     "execution_count": 136,
     "metadata": {},
     "output_type": "execute_result"
    }
   ],
   "source": [
    "# droping missing values\n",
    "Covid_open_line.describe()"
   ]
  },
  {
   "cell_type": "code",
   "execution_count": 137,
   "metadata": {},
   "outputs": [],
   "source": [
    "# replacing missing value \n",
    "Covid_open_line['wuhan(0)_not_wuhan(1)'].fillna(1.0, inplace=True)"
   ]
  },
  {
   "cell_type": "code",
   "execution_count": 138,
   "metadata": {},
   "outputs": [],
   "source": [
    "Covid_open_line['chronic_disease_binary'].fillna(0.722222, inplace=True)"
   ]
  },
  {
   "cell_type": "code",
   "execution_count": 140,
   "metadata": {
    "scrolled": true
   },
   "outputs": [],
   "source": [
    "Clean_5 = Covid_open_line.isnull().sum()"
   ]
  },
  {
   "cell_type": "code",
   "execution_count": 141,
   "metadata": {
    "scrolled": true
   },
   "outputs": [
    {
     "data": {
      "text/plain": [
       "ID                              1\n",
       "age                         11825\n",
       "sex                         11910\n",
       "city                         2980\n",
       "province                      268\n",
       "country                        26\n",
       "wuhan(0)_not_wuhan(1)           0\n",
       "latitude                       27\n",
       "longitude                      27\n",
       "geo_resolution                 27\n",
       "date_onset_symptoms         12428\n",
       "date_admission_hospital     12444\n",
       "date_confirmation              85\n",
       "symptoms                    12681\n",
       "lives_in_Wuhan              12609\n",
       "travel_history_dates        12671\n",
       "travel_history_location     12416\n",
       "reported_market_exposure    13139\n",
       "additional_information      10762\n",
       "chronic_disease_binary          0\n",
       "chronic_disease             13161\n",
       "source                        224\n",
       "sequence_available          13173\n",
       "outcome                     12990\n",
       "date_death_or_discharge     13081\n",
       "notes_for_discussion        12987\n",
       "location                    12150\n",
       "admin3                      12015\n",
       "admin2                       4106\n",
       "admin1                        297\n",
       "country_new                    95\n",
       "admin_id                       71\n",
       "data_moderator_initials     13157\n",
       "dtype: int64"
      ]
     },
     "execution_count": 141,
     "metadata": {},
     "output_type": "execute_result"
    }
   ],
   "source": [
    "Clean_5 "
   ]
  },
  {
   "cell_type": "code",
   "execution_count": null,
   "metadata": {},
   "outputs": [],
   "source": [
    "# Needs More cleaning "
   ]
  },
  {
   "cell_type": "markdown",
   "metadata": {},
   "source": [
    "### Data 6"
   ]
  },
  {
   "cell_type": "code",
   "execution_count": 3,
   "metadata": {},
   "outputs": [],
   "source": [
    "# importing Covid data of US confrimed cases\n",
    "TS_US_Confirmed = pd.read_csv(os.path.join(path, '02 Data', 'OriginalData','covid_19', 'TS_C19_confirmed_US.csv'), index_col = False)"
   ]
  },
  {
   "cell_type": "code",
   "execution_count": 4,
   "metadata": {},
   "outputs": [],
   "source": [
    "#exporting the data after cleaning \n",
    "TS_US_Confirmed.to_csv(os.path.join(path, '02 Data', 'PreparedData','TS_C19_confirmed_US.csv'))"
   ]
  },
  {
   "cell_type": "code",
   "execution_count": 5,
   "metadata": {},
   "outputs": [
    {
     "data": {
      "text/plain": [
       "(3340, 257)"
      ]
     },
     "execution_count": 5,
     "metadata": {},
     "output_type": "execute_result"
    }
   ],
   "source": [
    "TS_US_Confirmed.shape"
   ]
  },
  {
   "cell_type": "code",
   "execution_count": 6,
   "metadata": {},
   "outputs": [
    {
     "data": {
      "text/html": [
       "<div>\n",
       "<style scoped>\n",
       "    .dataframe tbody tr th:only-of-type {\n",
       "        vertical-align: middle;\n",
       "    }\n",
       "\n",
       "    .dataframe tbody tr th {\n",
       "        vertical-align: top;\n",
       "    }\n",
       "\n",
       "    .dataframe thead th {\n",
       "        text-align: right;\n",
       "    }\n",
       "</style>\n",
       "<table border=\"1\" class=\"dataframe\">\n",
       "  <thead>\n",
       "    <tr style=\"text-align: right;\">\n",
       "      <th></th>\n",
       "      <th>UID</th>\n",
       "      <th>iso2</th>\n",
       "      <th>iso3</th>\n",
       "      <th>code3</th>\n",
       "      <th>FIPS</th>\n",
       "      <th>Admin2</th>\n",
       "      <th>Province_State</th>\n",
       "      <th>Country_Region</th>\n",
       "      <th>Lat</th>\n",
       "      <th>Long_</th>\n",
       "      <th>...</th>\n",
       "      <th>9/14/20</th>\n",
       "      <th>9/15/20</th>\n",
       "      <th>9/16/20</th>\n",
       "      <th>9/17/20</th>\n",
       "      <th>9/18/20</th>\n",
       "      <th>9/19/20</th>\n",
       "      <th>9/20/20</th>\n",
       "      <th>9/21/20</th>\n",
       "      <th>9/22/20</th>\n",
       "      <th>9/23/20</th>\n",
       "    </tr>\n",
       "  </thead>\n",
       "  <tbody>\n",
       "    <tr>\n",
       "      <th>0</th>\n",
       "      <td>84001001</td>\n",
       "      <td>US</td>\n",
       "      <td>USA</td>\n",
       "      <td>840</td>\n",
       "      <td>1001.0</td>\n",
       "      <td>Autauga</td>\n",
       "      <td>Alabama</td>\n",
       "      <td>US</td>\n",
       "      <td>32.539527</td>\n",
       "      <td>-86.644082</td>\n",
       "      <td>...</td>\n",
       "      <td>1447</td>\n",
       "      <td>1463</td>\n",
       "      <td>1619</td>\n",
       "      <td>1624</td>\n",
       "      <td>1664</td>\n",
       "      <td>1673</td>\n",
       "      <td>1690</td>\n",
       "      <td>1691</td>\n",
       "      <td>1714</td>\n",
       "      <td>1715</td>\n",
       "    </tr>\n",
       "    <tr>\n",
       "      <th>1</th>\n",
       "      <td>84001003</td>\n",
       "      <td>US</td>\n",
       "      <td>USA</td>\n",
       "      <td>840</td>\n",
       "      <td>1003.0</td>\n",
       "      <td>Baldwin</td>\n",
       "      <td>Alabama</td>\n",
       "      <td>US</td>\n",
       "      <td>30.727750</td>\n",
       "      <td>-87.722071</td>\n",
       "      <td>...</td>\n",
       "      <td>4800</td>\n",
       "      <td>4812</td>\n",
       "      <td>5003</td>\n",
       "      <td>5021</td>\n",
       "      <td>5033</td>\n",
       "      <td>5047</td>\n",
       "      <td>5061</td>\n",
       "      <td>5087</td>\n",
       "      <td>5124</td>\n",
       "      <td>5141</td>\n",
       "    </tr>\n",
       "    <tr>\n",
       "      <th>2</th>\n",
       "      <td>84001005</td>\n",
       "      <td>US</td>\n",
       "      <td>USA</td>\n",
       "      <td>840</td>\n",
       "      <td>1005.0</td>\n",
       "      <td>Barbour</td>\n",
       "      <td>Alabama</td>\n",
       "      <td>US</td>\n",
       "      <td>31.868263</td>\n",
       "      <td>-85.387129</td>\n",
       "      <td>...</td>\n",
       "      <td>626</td>\n",
       "      <td>629</td>\n",
       "      <td>809</td>\n",
       "      <td>809</td>\n",
       "      <td>824</td>\n",
       "      <td>830</td>\n",
       "      <td>835</td>\n",
       "      <td>838</td>\n",
       "      <td>848</td>\n",
       "      <td>851</td>\n",
       "    </tr>\n",
       "    <tr>\n",
       "      <th>3</th>\n",
       "      <td>84001007</td>\n",
       "      <td>US</td>\n",
       "      <td>USA</td>\n",
       "      <td>840</td>\n",
       "      <td>1007.0</td>\n",
       "      <td>Bibb</td>\n",
       "      <td>Alabama</td>\n",
       "      <td>US</td>\n",
       "      <td>32.996421</td>\n",
       "      <td>-87.125115</td>\n",
       "      <td>...</td>\n",
       "      <td>581</td>\n",
       "      <td>580</td>\n",
       "      <td>612</td>\n",
       "      <td>617</td>\n",
       "      <td>619</td>\n",
       "      <td>628</td>\n",
       "      <td>632</td>\n",
       "      <td>636</td>\n",
       "      <td>635</td>\n",
       "      <td>638</td>\n",
       "    </tr>\n",
       "    <tr>\n",
       "      <th>4</th>\n",
       "      <td>84001009</td>\n",
       "      <td>US</td>\n",
       "      <td>USA</td>\n",
       "      <td>840</td>\n",
       "      <td>1009.0</td>\n",
       "      <td>Blount</td>\n",
       "      <td>Alabama</td>\n",
       "      <td>US</td>\n",
       "      <td>33.982109</td>\n",
       "      <td>-86.567906</td>\n",
       "      <td>...</td>\n",
       "      <td>1128</td>\n",
       "      <td>1139</td>\n",
       "      <td>1487</td>\n",
       "      <td>1504</td>\n",
       "      <td>1527</td>\n",
       "      <td>1542</td>\n",
       "      <td>1551</td>\n",
       "      <td>1560</td>\n",
       "      <td>1573</td>\n",
       "      <td>1580</td>\n",
       "    </tr>\n",
       "  </tbody>\n",
       "</table>\n",
       "<p>5 rows × 257 columns</p>\n",
       "</div>"
      ],
      "text/plain": [
       "        UID iso2 iso3  code3    FIPS   Admin2 Province_State Country_Region  \\\n",
       "0  84001001   US  USA    840  1001.0  Autauga        Alabama             US   \n",
       "1  84001003   US  USA    840  1003.0  Baldwin        Alabama             US   \n",
       "2  84001005   US  USA    840  1005.0  Barbour        Alabama             US   \n",
       "3  84001007   US  USA    840  1007.0     Bibb        Alabama             US   \n",
       "4  84001009   US  USA    840  1009.0   Blount        Alabama             US   \n",
       "\n",
       "         Lat      Long_  ... 9/14/20  9/15/20  9/16/20  9/17/20  9/18/20  \\\n",
       "0  32.539527 -86.644082  ...    1447     1463     1619     1624     1664   \n",
       "1  30.727750 -87.722071  ...    4800     4812     5003     5021     5033   \n",
       "2  31.868263 -85.387129  ...     626      629      809      809      824   \n",
       "3  32.996421 -87.125115  ...     581      580      612      617      619   \n",
       "4  33.982109 -86.567906  ...    1128     1139     1487     1504     1527   \n",
       "\n",
       "   9/19/20  9/20/20  9/21/20  9/22/20  9/23/20  \n",
       "0     1673     1690     1691     1714     1715  \n",
       "1     5047     5061     5087     5124     5141  \n",
       "2      830      835      838      848      851  \n",
       "3      628      632      636      635      638  \n",
       "4     1542     1551     1560     1573     1580  \n",
       "\n",
       "[5 rows x 257 columns]"
      ]
     },
     "execution_count": 6,
     "metadata": {},
     "output_type": "execute_result"
    }
   ],
   "source": [
    "TS_US_Confirmed.head()"
   ]
  },
  {
   "cell_type": "code",
   "execution_count": 160,
   "metadata": {},
   "outputs": [
    {
     "data": {
      "text/plain": [
       "UID         0\n",
       "iso2        0\n",
       "iso3        0\n",
       "code3       0\n",
       "FIPS       10\n",
       "           ..\n",
       "9/19/20     0\n",
       "9/20/20     0\n",
       "9/21/20     0\n",
       "9/22/20     0\n",
       "9/23/20     0\n",
       "Length: 257, dtype: int64"
      ]
     },
     "execution_count": 160,
     "metadata": {},
     "output_type": "execute_result"
    }
   ],
   "source": [
    "# looking for missing value\n",
    "TS_US_Confirmed.isnull().sum()"
   ]
  },
  {
   "cell_type": "code",
   "execution_count": null,
   "metadata": {},
   "outputs": [],
   "source": [
    "# the FIPS is key column "
   ]
  },
  {
   "cell_type": "markdown",
   "metadata": {},
   "source": [
    "### Data 7"
   ]
  },
  {
   "cell_type": "code",
   "execution_count": 7,
   "metadata": {},
   "outputs": [],
   "source": [
    "# importing Covid data of Time series by confirmed cases\n",
    "TS_Confirmed = pd.read_csv(os.path.join(path, '02 Data', 'OriginalData','covid_19', 'TS_C19_confirmed.csv'), index_col = False)"
   ]
  },
  {
   "cell_type": "code",
   "execution_count": 8,
   "metadata": {},
   "outputs": [],
   "source": [
    "#exporting the data after cleaning \n",
    "TS_Confirmed.to_csv(os.path.join(path, '02 Data', 'PreparedData','TS_C19_confirmed.csv'))"
   ]
  },
  {
   "cell_type": "code",
   "execution_count": 9,
   "metadata": {},
   "outputs": [
    {
     "data": {
      "text/plain": [
       "(266, 250)"
      ]
     },
     "execution_count": 9,
     "metadata": {},
     "output_type": "execute_result"
    }
   ],
   "source": [
    "TS_Confirmed.shape"
   ]
  },
  {
   "cell_type": "code",
   "execution_count": 10,
   "metadata": {},
   "outputs": [
    {
     "data": {
      "text/html": [
       "<div>\n",
       "<style scoped>\n",
       "    .dataframe tbody tr th:only-of-type {\n",
       "        vertical-align: middle;\n",
       "    }\n",
       "\n",
       "    .dataframe tbody tr th {\n",
       "        vertical-align: top;\n",
       "    }\n",
       "\n",
       "    .dataframe thead th {\n",
       "        text-align: right;\n",
       "    }\n",
       "</style>\n",
       "<table border=\"1\" class=\"dataframe\">\n",
       "  <thead>\n",
       "    <tr style=\"text-align: right;\">\n",
       "      <th></th>\n",
       "      <th>Province/State</th>\n",
       "      <th>Country/Region</th>\n",
       "      <th>Lat</th>\n",
       "      <th>Long</th>\n",
       "      <th>1/22/20</th>\n",
       "      <th>1/23/20</th>\n",
       "      <th>1/24/20</th>\n",
       "      <th>1/25/20</th>\n",
       "      <th>1/26/20</th>\n",
       "      <th>1/27/20</th>\n",
       "      <th>...</th>\n",
       "      <th>9/14/20</th>\n",
       "      <th>9/15/20</th>\n",
       "      <th>9/16/20</th>\n",
       "      <th>9/17/20</th>\n",
       "      <th>9/18/20</th>\n",
       "      <th>9/19/20</th>\n",
       "      <th>9/20/20</th>\n",
       "      <th>9/21/20</th>\n",
       "      <th>9/22/20</th>\n",
       "      <th>9/23/20</th>\n",
       "    </tr>\n",
       "  </thead>\n",
       "  <tbody>\n",
       "    <tr>\n",
       "      <th>0</th>\n",
       "      <td>NaN</td>\n",
       "      <td>Afghanistan</td>\n",
       "      <td>33.93911</td>\n",
       "      <td>67.709953</td>\n",
       "      <td>0</td>\n",
       "      <td>0</td>\n",
       "      <td>0</td>\n",
       "      <td>0</td>\n",
       "      <td>0</td>\n",
       "      <td>0</td>\n",
       "      <td>...</td>\n",
       "      <td>38772</td>\n",
       "      <td>38815</td>\n",
       "      <td>38855</td>\n",
       "      <td>38872</td>\n",
       "      <td>38883</td>\n",
       "      <td>38919</td>\n",
       "      <td>39044</td>\n",
       "      <td>39074</td>\n",
       "      <td>39096</td>\n",
       "      <td>39145</td>\n",
       "    </tr>\n",
       "    <tr>\n",
       "      <th>1</th>\n",
       "      <td>NaN</td>\n",
       "      <td>Albania</td>\n",
       "      <td>41.15330</td>\n",
       "      <td>20.168300</td>\n",
       "      <td>0</td>\n",
       "      <td>0</td>\n",
       "      <td>0</td>\n",
       "      <td>0</td>\n",
       "      <td>0</td>\n",
       "      <td>0</td>\n",
       "      <td>...</td>\n",
       "      <td>11520</td>\n",
       "      <td>11672</td>\n",
       "      <td>11816</td>\n",
       "      <td>11948</td>\n",
       "      <td>12073</td>\n",
       "      <td>12226</td>\n",
       "      <td>12385</td>\n",
       "      <td>12535</td>\n",
       "      <td>12666</td>\n",
       "      <td>12787</td>\n",
       "    </tr>\n",
       "    <tr>\n",
       "      <th>2</th>\n",
       "      <td>NaN</td>\n",
       "      <td>Algeria</td>\n",
       "      <td>28.03390</td>\n",
       "      <td>1.659600</td>\n",
       "      <td>0</td>\n",
       "      <td>0</td>\n",
       "      <td>0</td>\n",
       "      <td>0</td>\n",
       "      <td>0</td>\n",
       "      <td>0</td>\n",
       "      <td>...</td>\n",
       "      <td>48496</td>\n",
       "      <td>48734</td>\n",
       "      <td>48966</td>\n",
       "      <td>49194</td>\n",
       "      <td>49413</td>\n",
       "      <td>49623</td>\n",
       "      <td>49826</td>\n",
       "      <td>50023</td>\n",
       "      <td>50214</td>\n",
       "      <td>50400</td>\n",
       "    </tr>\n",
       "    <tr>\n",
       "      <th>3</th>\n",
       "      <td>NaN</td>\n",
       "      <td>Andorra</td>\n",
       "      <td>42.50630</td>\n",
       "      <td>1.521800</td>\n",
       "      <td>0</td>\n",
       "      <td>0</td>\n",
       "      <td>0</td>\n",
       "      <td>0</td>\n",
       "      <td>0</td>\n",
       "      <td>0</td>\n",
       "      <td>...</td>\n",
       "      <td>1438</td>\n",
       "      <td>1438</td>\n",
       "      <td>1483</td>\n",
       "      <td>1483</td>\n",
       "      <td>1564</td>\n",
       "      <td>1564</td>\n",
       "      <td>1564</td>\n",
       "      <td>1681</td>\n",
       "      <td>1681</td>\n",
       "      <td>1753</td>\n",
       "    </tr>\n",
       "    <tr>\n",
       "      <th>4</th>\n",
       "      <td>NaN</td>\n",
       "      <td>Angola</td>\n",
       "      <td>-11.20270</td>\n",
       "      <td>17.873900</td>\n",
       "      <td>0</td>\n",
       "      <td>0</td>\n",
       "      <td>0</td>\n",
       "      <td>0</td>\n",
       "      <td>0</td>\n",
       "      <td>0</td>\n",
       "      <td>...</td>\n",
       "      <td>3439</td>\n",
       "      <td>3569</td>\n",
       "      <td>3675</td>\n",
       "      <td>3789</td>\n",
       "      <td>3848</td>\n",
       "      <td>3901</td>\n",
       "      <td>3991</td>\n",
       "      <td>4117</td>\n",
       "      <td>4236</td>\n",
       "      <td>4363</td>\n",
       "    </tr>\n",
       "  </tbody>\n",
       "</table>\n",
       "<p>5 rows × 250 columns</p>\n",
       "</div>"
      ],
      "text/plain": [
       "  Province/State Country/Region       Lat       Long  1/22/20  1/23/20  \\\n",
       "0            NaN    Afghanistan  33.93911  67.709953        0        0   \n",
       "1            NaN        Albania  41.15330  20.168300        0        0   \n",
       "2            NaN        Algeria  28.03390   1.659600        0        0   \n",
       "3            NaN        Andorra  42.50630   1.521800        0        0   \n",
       "4            NaN         Angola -11.20270  17.873900        0        0   \n",
       "\n",
       "   1/24/20  1/25/20  1/26/20  1/27/20  ...  9/14/20  9/15/20  9/16/20  \\\n",
       "0        0        0        0        0  ...    38772    38815    38855   \n",
       "1        0        0        0        0  ...    11520    11672    11816   \n",
       "2        0        0        0        0  ...    48496    48734    48966   \n",
       "3        0        0        0        0  ...     1438     1438     1483   \n",
       "4        0        0        0        0  ...     3439     3569     3675   \n",
       "\n",
       "   9/17/20  9/18/20  9/19/20  9/20/20  9/21/20  9/22/20  9/23/20  \n",
       "0    38872    38883    38919    39044    39074    39096    39145  \n",
       "1    11948    12073    12226    12385    12535    12666    12787  \n",
       "2    49194    49413    49623    49826    50023    50214    50400  \n",
       "3     1483     1564     1564     1564     1681     1681     1753  \n",
       "4     3789     3848     3901     3991     4117     4236     4363  \n",
       "\n",
       "[5 rows x 250 columns]"
      ]
     },
     "execution_count": 10,
     "metadata": {},
     "output_type": "execute_result"
    }
   ],
   "source": [
    "TS_Confirmed.head()"
   ]
  },
  {
   "cell_type": "code",
   "execution_count": 151,
   "metadata": {},
   "outputs": [
    {
     "data": {
      "text/plain": [
       "Province/State    185\n",
       "Country/Region      0\n",
       "Lat                 0\n",
       "Long                0\n",
       "1/22/20             0\n",
       "                 ... \n",
       "9/19/20             0\n",
       "9/20/20             0\n",
       "9/21/20             0\n",
       "9/22/20             0\n",
       "9/23/20             0\n",
       "Length: 250, dtype: int64"
      ]
     },
     "execution_count": 151,
     "metadata": {},
     "output_type": "execute_result"
    }
   ],
   "source": [
    "# looking for missing value\n",
    "TS_Confirmed.isnull().sum()"
   ]
  },
  {
   "cell_type": "markdown",
   "metadata": {},
   "source": [
    "### Data 8"
   ]
  },
  {
   "cell_type": "code",
   "execution_count": 11,
   "metadata": {},
   "outputs": [],
   "source": [
    "# importing Covid data of Times series by US deaths\n",
    "TS_US_deaths = pd.read_csv(os.path.join(path, '02 Data', 'OriginalData','covid_19', 'TS_C19_deaths_US.csv'), index_col = False)"
   ]
  },
  {
   "cell_type": "code",
   "execution_count": 12,
   "metadata": {},
   "outputs": [],
   "source": [
    "#exporting the data after cleaning \n",
    "TS_US_deaths.to_csv(os.path.join(path, '02 Data', 'PreparedData','TS_C19_deaths_US.csv'))"
   ]
  },
  {
   "cell_type": "code",
   "execution_count": 13,
   "metadata": {},
   "outputs": [
    {
     "data": {
      "text/plain": [
       "(3340, 258)"
      ]
     },
     "execution_count": 13,
     "metadata": {},
     "output_type": "execute_result"
    }
   ],
   "source": [
    "TS_US_deaths.shape"
   ]
  },
  {
   "cell_type": "code",
   "execution_count": 157,
   "metadata": {},
   "outputs": [
    {
     "data": {
      "text/plain": [
       "UID         0\n",
       "iso2        0\n",
       "iso3        0\n",
       "code3       0\n",
       "FIPS       10\n",
       "           ..\n",
       "9/19/20     0\n",
       "9/20/20     0\n",
       "9/21/20     0\n",
       "9/22/20     0\n",
       "9/23/20     0\n",
       "Length: 258, dtype: int64"
      ]
     },
     "execution_count": 157,
     "metadata": {},
     "output_type": "execute_result"
    }
   ],
   "source": [
    "# looking for missing value\n",
    "TS_US_deaths.isnull().sum()"
   ]
  },
  {
   "cell_type": "code",
   "execution_count": 14,
   "metadata": {},
   "outputs": [
    {
     "data": {
      "text/html": [
       "<div>\n",
       "<style scoped>\n",
       "    .dataframe tbody tr th:only-of-type {\n",
       "        vertical-align: middle;\n",
       "    }\n",
       "\n",
       "    .dataframe tbody tr th {\n",
       "        vertical-align: top;\n",
       "    }\n",
       "\n",
       "    .dataframe thead th {\n",
       "        text-align: right;\n",
       "    }\n",
       "</style>\n",
       "<table border=\"1\" class=\"dataframe\">\n",
       "  <thead>\n",
       "    <tr style=\"text-align: right;\">\n",
       "      <th></th>\n",
       "      <th>UID</th>\n",
       "      <th>iso2</th>\n",
       "      <th>iso3</th>\n",
       "      <th>code3</th>\n",
       "      <th>FIPS</th>\n",
       "      <th>Admin2</th>\n",
       "      <th>Province_State</th>\n",
       "      <th>Country_Region</th>\n",
       "      <th>Lat</th>\n",
       "      <th>Long_</th>\n",
       "      <th>...</th>\n",
       "      <th>9/14/20</th>\n",
       "      <th>9/15/20</th>\n",
       "      <th>9/16/20</th>\n",
       "      <th>9/17/20</th>\n",
       "      <th>9/18/20</th>\n",
       "      <th>9/19/20</th>\n",
       "      <th>9/20/20</th>\n",
       "      <th>9/21/20</th>\n",
       "      <th>9/22/20</th>\n",
       "      <th>9/23/20</th>\n",
       "    </tr>\n",
       "  </thead>\n",
       "  <tbody>\n",
       "    <tr>\n",
       "      <th>0</th>\n",
       "      <td>84001001</td>\n",
       "      <td>US</td>\n",
       "      <td>USA</td>\n",
       "      <td>840</td>\n",
       "      <td>1001.0</td>\n",
       "      <td>Autauga</td>\n",
       "      <td>Alabama</td>\n",
       "      <td>US</td>\n",
       "      <td>32.539527</td>\n",
       "      <td>-86.644082</td>\n",
       "      <td>...</td>\n",
       "      <td>23</td>\n",
       "      <td>23</td>\n",
       "      <td>24</td>\n",
       "      <td>24</td>\n",
       "      <td>24</td>\n",
       "      <td>24</td>\n",
       "      <td>24</td>\n",
       "      <td>24</td>\n",
       "      <td>25</td>\n",
       "      <td>25</td>\n",
       "    </tr>\n",
       "    <tr>\n",
       "      <th>1</th>\n",
       "      <td>84001003</td>\n",
       "      <td>US</td>\n",
       "      <td>USA</td>\n",
       "      <td>840</td>\n",
       "      <td>1003.0</td>\n",
       "      <td>Baldwin</td>\n",
       "      <td>Alabama</td>\n",
       "      <td>US</td>\n",
       "      <td>30.727750</td>\n",
       "      <td>-87.722071</td>\n",
       "      <td>...</td>\n",
       "      <td>43</td>\n",
       "      <td>43</td>\n",
       "      <td>47</td>\n",
       "      <td>48</td>\n",
       "      <td>48</td>\n",
       "      <td>49</td>\n",
       "      <td>49</td>\n",
       "      <td>49</td>\n",
       "      <td>49</td>\n",
       "      <td>49</td>\n",
       "    </tr>\n",
       "    <tr>\n",
       "      <th>2</th>\n",
       "      <td>84001005</td>\n",
       "      <td>US</td>\n",
       "      <td>USA</td>\n",
       "      <td>840</td>\n",
       "      <td>1005.0</td>\n",
       "      <td>Barbour</td>\n",
       "      <td>Alabama</td>\n",
       "      <td>US</td>\n",
       "      <td>31.868263</td>\n",
       "      <td>-85.387129</td>\n",
       "      <td>...</td>\n",
       "      <td>7</td>\n",
       "      <td>7</td>\n",
       "      <td>7</td>\n",
       "      <td>7</td>\n",
       "      <td>7</td>\n",
       "      <td>7</td>\n",
       "      <td>7</td>\n",
       "      <td>7</td>\n",
       "      <td>7</td>\n",
       "      <td>7</td>\n",
       "    </tr>\n",
       "    <tr>\n",
       "      <th>3</th>\n",
       "      <td>84001007</td>\n",
       "      <td>US</td>\n",
       "      <td>USA</td>\n",
       "      <td>840</td>\n",
       "      <td>1007.0</td>\n",
       "      <td>Bibb</td>\n",
       "      <td>Alabama</td>\n",
       "      <td>US</td>\n",
       "      <td>32.996421</td>\n",
       "      <td>-87.125115</td>\n",
       "      <td>...</td>\n",
       "      <td>6</td>\n",
       "      <td>6</td>\n",
       "      <td>9</td>\n",
       "      <td>9</td>\n",
       "      <td>10</td>\n",
       "      <td>10</td>\n",
       "      <td>10</td>\n",
       "      <td>10</td>\n",
       "      <td>10</td>\n",
       "      <td>10</td>\n",
       "    </tr>\n",
       "    <tr>\n",
       "      <th>4</th>\n",
       "      <td>84001009</td>\n",
       "      <td>US</td>\n",
       "      <td>USA</td>\n",
       "      <td>840</td>\n",
       "      <td>1009.0</td>\n",
       "      <td>Blount</td>\n",
       "      <td>Alabama</td>\n",
       "      <td>US</td>\n",
       "      <td>33.982109</td>\n",
       "      <td>-86.567906</td>\n",
       "      <td>...</td>\n",
       "      <td>13</td>\n",
       "      <td>13</td>\n",
       "      <td>13</td>\n",
       "      <td>13</td>\n",
       "      <td>14</td>\n",
       "      <td>14</td>\n",
       "      <td>14</td>\n",
       "      <td>14</td>\n",
       "      <td>14</td>\n",
       "      <td>15</td>\n",
       "    </tr>\n",
       "  </tbody>\n",
       "</table>\n",
       "<p>5 rows × 258 columns</p>\n",
       "</div>"
      ],
      "text/plain": [
       "        UID iso2 iso3  code3    FIPS   Admin2 Province_State Country_Region  \\\n",
       "0  84001001   US  USA    840  1001.0  Autauga        Alabama             US   \n",
       "1  84001003   US  USA    840  1003.0  Baldwin        Alabama             US   \n",
       "2  84001005   US  USA    840  1005.0  Barbour        Alabama             US   \n",
       "3  84001007   US  USA    840  1007.0     Bibb        Alabama             US   \n",
       "4  84001009   US  USA    840  1009.0   Blount        Alabama             US   \n",
       "\n",
       "         Lat      Long_  ... 9/14/20  9/15/20  9/16/20  9/17/20  9/18/20  \\\n",
       "0  32.539527 -86.644082  ...      23       23       24       24       24   \n",
       "1  30.727750 -87.722071  ...      43       43       47       48       48   \n",
       "2  31.868263 -85.387129  ...       7        7        7        7        7   \n",
       "3  32.996421 -87.125115  ...       6        6        9        9       10   \n",
       "4  33.982109 -86.567906  ...      13       13       13       13       14   \n",
       "\n",
       "   9/19/20  9/20/20  9/21/20  9/22/20  9/23/20  \n",
       "0       24       24       24       25       25  \n",
       "1       49       49       49       49       49  \n",
       "2        7        7        7        7        7  \n",
       "3       10       10       10       10       10  \n",
       "4       14       14       14       14       15  \n",
       "\n",
       "[5 rows x 258 columns]"
      ]
     },
     "execution_count": 14,
     "metadata": {},
     "output_type": "execute_result"
    }
   ],
   "source": [
    "TS_US_deaths.head()"
   ]
  },
  {
   "cell_type": "markdown",
   "metadata": {},
   "source": [
    "### Data 9"
   ]
  },
  {
   "cell_type": "code",
   "execution_count": 15,
   "metadata": {},
   "outputs": [],
   "source": [
    "# importing Covid data of Time series by deaths\n",
    "TS_deaths = pd.read_csv(os.path.join(path, '02 Data', 'OriginalData','covid_19', 'TS_C19_deaths.csv'), index_col = False)"
   ]
  },
  {
   "cell_type": "code",
   "execution_count": 16,
   "metadata": {},
   "outputs": [],
   "source": [
    "#exporting the data after cleaning \n",
    "TS_deaths.to_csv(os.path.join(path, '02 Data', 'PreparedData','TS_C19_deaths.csv'))"
   ]
  },
  {
   "cell_type": "code",
   "execution_count": 17,
   "metadata": {},
   "outputs": [
    {
     "data": {
      "text/plain": [
       "(266, 250)"
      ]
     },
     "execution_count": 17,
     "metadata": {},
     "output_type": "execute_result"
    }
   ],
   "source": [
    "TS_deaths.shape"
   ]
  },
  {
   "cell_type": "code",
   "execution_count": 166,
   "metadata": {},
   "outputs": [
    {
     "data": {
      "text/plain": [
       "Province/State    185\n",
       "Country/Region      0\n",
       "Lat                 0\n",
       "Long                0\n",
       "1/22/20             0\n",
       "                 ... \n",
       "9/19/20             0\n",
       "9/20/20             0\n",
       "9/21/20             0\n",
       "9/22/20             0\n",
       "9/23/20             0\n",
       "Length: 250, dtype: int64"
      ]
     },
     "execution_count": 166,
     "metadata": {},
     "output_type": "execute_result"
    }
   ],
   "source": [
    "# looking for missing value\n",
    "TS_deaths.isnull().sum()"
   ]
  },
  {
   "cell_type": "code",
   "execution_count": 18,
   "metadata": {},
   "outputs": [
    {
     "data": {
      "text/html": [
       "<div>\n",
       "<style scoped>\n",
       "    .dataframe tbody tr th:only-of-type {\n",
       "        vertical-align: middle;\n",
       "    }\n",
       "\n",
       "    .dataframe tbody tr th {\n",
       "        vertical-align: top;\n",
       "    }\n",
       "\n",
       "    .dataframe thead th {\n",
       "        text-align: right;\n",
       "    }\n",
       "</style>\n",
       "<table border=\"1\" class=\"dataframe\">\n",
       "  <thead>\n",
       "    <tr style=\"text-align: right;\">\n",
       "      <th></th>\n",
       "      <th>Province/State</th>\n",
       "      <th>Country/Region</th>\n",
       "      <th>Lat</th>\n",
       "      <th>Long</th>\n",
       "      <th>1/22/20</th>\n",
       "      <th>1/23/20</th>\n",
       "      <th>1/24/20</th>\n",
       "      <th>1/25/20</th>\n",
       "      <th>1/26/20</th>\n",
       "      <th>1/27/20</th>\n",
       "      <th>...</th>\n",
       "      <th>9/14/20</th>\n",
       "      <th>9/15/20</th>\n",
       "      <th>9/16/20</th>\n",
       "      <th>9/17/20</th>\n",
       "      <th>9/18/20</th>\n",
       "      <th>9/19/20</th>\n",
       "      <th>9/20/20</th>\n",
       "      <th>9/21/20</th>\n",
       "      <th>9/22/20</th>\n",
       "      <th>9/23/20</th>\n",
       "    </tr>\n",
       "  </thead>\n",
       "  <tbody>\n",
       "    <tr>\n",
       "      <th>0</th>\n",
       "      <td>NaN</td>\n",
       "      <td>Afghanistan</td>\n",
       "      <td>33.93911</td>\n",
       "      <td>67.709953</td>\n",
       "      <td>0</td>\n",
       "      <td>0</td>\n",
       "      <td>0</td>\n",
       "      <td>0</td>\n",
       "      <td>0</td>\n",
       "      <td>0</td>\n",
       "      <td>...</td>\n",
       "      <td>1425</td>\n",
       "      <td>1426</td>\n",
       "      <td>1436</td>\n",
       "      <td>1436</td>\n",
       "      <td>1437</td>\n",
       "      <td>1437</td>\n",
       "      <td>1441</td>\n",
       "      <td>1444</td>\n",
       "      <td>1445</td>\n",
       "      <td>1446</td>\n",
       "    </tr>\n",
       "    <tr>\n",
       "      <th>1</th>\n",
       "      <td>NaN</td>\n",
       "      <td>Albania</td>\n",
       "      <td>41.15330</td>\n",
       "      <td>20.168300</td>\n",
       "      <td>0</td>\n",
       "      <td>0</td>\n",
       "      <td>0</td>\n",
       "      <td>0</td>\n",
       "      <td>0</td>\n",
       "      <td>0</td>\n",
       "      <td>...</td>\n",
       "      <td>338</td>\n",
       "      <td>340</td>\n",
       "      <td>343</td>\n",
       "      <td>347</td>\n",
       "      <td>353</td>\n",
       "      <td>358</td>\n",
       "      <td>362</td>\n",
       "      <td>364</td>\n",
       "      <td>367</td>\n",
       "      <td>370</td>\n",
       "    </tr>\n",
       "    <tr>\n",
       "      <th>2</th>\n",
       "      <td>NaN</td>\n",
       "      <td>Algeria</td>\n",
       "      <td>28.03390</td>\n",
       "      <td>1.659600</td>\n",
       "      <td>0</td>\n",
       "      <td>0</td>\n",
       "      <td>0</td>\n",
       "      <td>0</td>\n",
       "      <td>0</td>\n",
       "      <td>0</td>\n",
       "      <td>...</td>\n",
       "      <td>1620</td>\n",
       "      <td>1632</td>\n",
       "      <td>1645</td>\n",
       "      <td>1654</td>\n",
       "      <td>1659</td>\n",
       "      <td>1665</td>\n",
       "      <td>1672</td>\n",
       "      <td>1679</td>\n",
       "      <td>1689</td>\n",
       "      <td>1698</td>\n",
       "    </tr>\n",
       "    <tr>\n",
       "      <th>3</th>\n",
       "      <td>NaN</td>\n",
       "      <td>Andorra</td>\n",
       "      <td>42.50630</td>\n",
       "      <td>1.521800</td>\n",
       "      <td>0</td>\n",
       "      <td>0</td>\n",
       "      <td>0</td>\n",
       "      <td>0</td>\n",
       "      <td>0</td>\n",
       "      <td>0</td>\n",
       "      <td>...</td>\n",
       "      <td>53</td>\n",
       "      <td>53</td>\n",
       "      <td>53</td>\n",
       "      <td>53</td>\n",
       "      <td>53</td>\n",
       "      <td>53</td>\n",
       "      <td>53</td>\n",
       "      <td>53</td>\n",
       "      <td>53</td>\n",
       "      <td>53</td>\n",
       "    </tr>\n",
       "    <tr>\n",
       "      <th>4</th>\n",
       "      <td>NaN</td>\n",
       "      <td>Angola</td>\n",
       "      <td>-11.20270</td>\n",
       "      <td>17.873900</td>\n",
       "      <td>0</td>\n",
       "      <td>0</td>\n",
       "      <td>0</td>\n",
       "      <td>0</td>\n",
       "      <td>0</td>\n",
       "      <td>0</td>\n",
       "      <td>...</td>\n",
       "      <td>136</td>\n",
       "      <td>139</td>\n",
       "      <td>143</td>\n",
       "      <td>144</td>\n",
       "      <td>147</td>\n",
       "      <td>147</td>\n",
       "      <td>152</td>\n",
       "      <td>154</td>\n",
       "      <td>155</td>\n",
       "      <td>159</td>\n",
       "    </tr>\n",
       "  </tbody>\n",
       "</table>\n",
       "<p>5 rows × 250 columns</p>\n",
       "</div>"
      ],
      "text/plain": [
       "  Province/State Country/Region       Lat       Long  1/22/20  1/23/20  \\\n",
       "0            NaN    Afghanistan  33.93911  67.709953        0        0   \n",
       "1            NaN        Albania  41.15330  20.168300        0        0   \n",
       "2            NaN        Algeria  28.03390   1.659600        0        0   \n",
       "3            NaN        Andorra  42.50630   1.521800        0        0   \n",
       "4            NaN         Angola -11.20270  17.873900        0        0   \n",
       "\n",
       "   1/24/20  1/25/20  1/26/20  1/27/20  ...  9/14/20  9/15/20  9/16/20  \\\n",
       "0        0        0        0        0  ...     1425     1426     1436   \n",
       "1        0        0        0        0  ...      338      340      343   \n",
       "2        0        0        0        0  ...     1620     1632     1645   \n",
       "3        0        0        0        0  ...       53       53       53   \n",
       "4        0        0        0        0  ...      136      139      143   \n",
       "\n",
       "   9/17/20  9/18/20  9/19/20  9/20/20  9/21/20  9/22/20  9/23/20  \n",
       "0     1436     1437     1437     1441     1444     1445     1446  \n",
       "1      347      353      358      362      364      367      370  \n",
       "2     1654     1659     1665     1672     1679     1689     1698  \n",
       "3       53       53       53       53       53       53       53  \n",
       "4      144      147      147      152      154      155      159  \n",
       "\n",
       "[5 rows x 250 columns]"
      ]
     },
     "execution_count": 18,
     "metadata": {},
     "output_type": "execute_result"
    }
   ],
   "source": [
    "TS_deaths.head()"
   ]
  },
  {
   "cell_type": "code",
   "execution_count": 167,
   "metadata": {},
   "outputs": [],
   "source": [
    "# no action was taken for the missing value in province and state column"
   ]
  },
  {
   "cell_type": "markdown",
   "metadata": {},
   "source": [
    "### Data 10"
   ]
  },
  {
   "cell_type": "code",
   "execution_count": 19,
   "metadata": {},
   "outputs": [],
   "source": [
    "# importing Covid data of Time series by recovered cases\n",
    "TS_recovered = pd.read_csv(os.path.join(path, '02 Data', 'OriginalData','covid_19', 'TS_C19_recovered.csv'), index_col = False)"
   ]
  },
  {
   "cell_type": "code",
   "execution_count": 20,
   "metadata": {},
   "outputs": [],
   "source": [
    "#exporting the data after cleaning \n",
    "TS_recovered.to_csv(os.path.join(path, '02 Data', 'PreparedData','TS_C19_recovered.csv'))"
   ]
  },
  {
   "cell_type": "code",
   "execution_count": 169,
   "metadata": {},
   "outputs": [
    {
     "data": {
      "text/plain": [
       "(253, 250)"
      ]
     },
     "execution_count": 169,
     "metadata": {},
     "output_type": "execute_result"
    }
   ],
   "source": [
    "TS_recovered.shape"
   ]
  },
  {
   "cell_type": "code",
   "execution_count": 21,
   "metadata": {},
   "outputs": [
    {
     "data": {
      "text/html": [
       "<div>\n",
       "<style scoped>\n",
       "    .dataframe tbody tr th:only-of-type {\n",
       "        vertical-align: middle;\n",
       "    }\n",
       "\n",
       "    .dataframe tbody tr th {\n",
       "        vertical-align: top;\n",
       "    }\n",
       "\n",
       "    .dataframe thead th {\n",
       "        text-align: right;\n",
       "    }\n",
       "</style>\n",
       "<table border=\"1\" class=\"dataframe\">\n",
       "  <thead>\n",
       "    <tr style=\"text-align: right;\">\n",
       "      <th></th>\n",
       "      <th>Province/State</th>\n",
       "      <th>Country/Region</th>\n",
       "      <th>Lat</th>\n",
       "      <th>Long</th>\n",
       "      <th>1/22/20</th>\n",
       "      <th>1/23/20</th>\n",
       "      <th>1/24/20</th>\n",
       "      <th>1/25/20</th>\n",
       "      <th>1/26/20</th>\n",
       "      <th>1/27/20</th>\n",
       "      <th>...</th>\n",
       "      <th>9/14/20</th>\n",
       "      <th>9/15/20</th>\n",
       "      <th>9/16/20</th>\n",
       "      <th>9/17/20</th>\n",
       "      <th>9/18/20</th>\n",
       "      <th>9/19/20</th>\n",
       "      <th>9/20/20</th>\n",
       "      <th>9/21/20</th>\n",
       "      <th>9/22/20</th>\n",
       "      <th>9/23/20</th>\n",
       "    </tr>\n",
       "  </thead>\n",
       "  <tbody>\n",
       "    <tr>\n",
       "      <th>0</th>\n",
       "      <td>NaN</td>\n",
       "      <td>Afghanistan</td>\n",
       "      <td>33.93911</td>\n",
       "      <td>67.709953</td>\n",
       "      <td>0</td>\n",
       "      <td>0</td>\n",
       "      <td>0</td>\n",
       "      <td>0</td>\n",
       "      <td>0</td>\n",
       "      <td>0</td>\n",
       "      <td>...</td>\n",
       "      <td>32073</td>\n",
       "      <td>32098</td>\n",
       "      <td>32503</td>\n",
       "      <td>32505</td>\n",
       "      <td>32576</td>\n",
       "      <td>32576</td>\n",
       "      <td>32576</td>\n",
       "      <td>32576</td>\n",
       "      <td>32576</td>\n",
       "      <td>32610</td>\n",
       "    </tr>\n",
       "    <tr>\n",
       "      <th>1</th>\n",
       "      <td>NaN</td>\n",
       "      <td>Albania</td>\n",
       "      <td>41.15330</td>\n",
       "      <td>20.168300</td>\n",
       "      <td>0</td>\n",
       "      <td>0</td>\n",
       "      <td>0</td>\n",
       "      <td>0</td>\n",
       "      <td>0</td>\n",
       "      <td>0</td>\n",
       "      <td>...</td>\n",
       "      <td>6615</td>\n",
       "      <td>6668</td>\n",
       "      <td>6733</td>\n",
       "      <td>6788</td>\n",
       "      <td>6831</td>\n",
       "      <td>6888</td>\n",
       "      <td>6940</td>\n",
       "      <td>6995</td>\n",
       "      <td>7042</td>\n",
       "      <td>7139</td>\n",
       "    </tr>\n",
       "    <tr>\n",
       "      <th>2</th>\n",
       "      <td>NaN</td>\n",
       "      <td>Algeria</td>\n",
       "      <td>28.03390</td>\n",
       "      <td>1.659600</td>\n",
       "      <td>0</td>\n",
       "      <td>0</td>\n",
       "      <td>0</td>\n",
       "      <td>0</td>\n",
       "      <td>0</td>\n",
       "      <td>0</td>\n",
       "      <td>...</td>\n",
       "      <td>34204</td>\n",
       "      <td>34385</td>\n",
       "      <td>34517</td>\n",
       "      <td>34675</td>\n",
       "      <td>34818</td>\n",
       "      <td>34923</td>\n",
       "      <td>35047</td>\n",
       "      <td>35180</td>\n",
       "      <td>35307</td>\n",
       "      <td>35428</td>\n",
       "    </tr>\n",
       "    <tr>\n",
       "      <th>3</th>\n",
       "      <td>NaN</td>\n",
       "      <td>Andorra</td>\n",
       "      <td>42.50630</td>\n",
       "      <td>1.521800</td>\n",
       "      <td>0</td>\n",
       "      <td>0</td>\n",
       "      <td>0</td>\n",
       "      <td>0</td>\n",
       "      <td>0</td>\n",
       "      <td>0</td>\n",
       "      <td>...</td>\n",
       "      <td>945</td>\n",
       "      <td>945</td>\n",
       "      <td>1054</td>\n",
       "      <td>1054</td>\n",
       "      <td>1164</td>\n",
       "      <td>1164</td>\n",
       "      <td>1164</td>\n",
       "      <td>1199</td>\n",
       "      <td>1199</td>\n",
       "      <td>1203</td>\n",
       "    </tr>\n",
       "    <tr>\n",
       "      <th>4</th>\n",
       "      <td>NaN</td>\n",
       "      <td>Angola</td>\n",
       "      <td>-11.20270</td>\n",
       "      <td>17.873900</td>\n",
       "      <td>0</td>\n",
       "      <td>0</td>\n",
       "      <td>0</td>\n",
       "      <td>0</td>\n",
       "      <td>0</td>\n",
       "      <td>0</td>\n",
       "      <td>...</td>\n",
       "      <td>1324</td>\n",
       "      <td>1332</td>\n",
       "      <td>1401</td>\n",
       "      <td>1405</td>\n",
       "      <td>1443</td>\n",
       "      <td>1445</td>\n",
       "      <td>1445</td>\n",
       "      <td>1449</td>\n",
       "      <td>1462</td>\n",
       "      <td>1473</td>\n",
       "    </tr>\n",
       "  </tbody>\n",
       "</table>\n",
       "<p>5 rows × 250 columns</p>\n",
       "</div>"
      ],
      "text/plain": [
       "  Province/State Country/Region       Lat       Long  1/22/20  1/23/20  \\\n",
       "0            NaN    Afghanistan  33.93911  67.709953        0        0   \n",
       "1            NaN        Albania  41.15330  20.168300        0        0   \n",
       "2            NaN        Algeria  28.03390   1.659600        0        0   \n",
       "3            NaN        Andorra  42.50630   1.521800        0        0   \n",
       "4            NaN         Angola -11.20270  17.873900        0        0   \n",
       "\n",
       "   1/24/20  1/25/20  1/26/20  1/27/20  ...  9/14/20  9/15/20  9/16/20  \\\n",
       "0        0        0        0        0  ...    32073    32098    32503   \n",
       "1        0        0        0        0  ...     6615     6668     6733   \n",
       "2        0        0        0        0  ...    34204    34385    34517   \n",
       "3        0        0        0        0  ...      945      945     1054   \n",
       "4        0        0        0        0  ...     1324     1332     1401   \n",
       "\n",
       "   9/17/20  9/18/20  9/19/20  9/20/20  9/21/20  9/22/20  9/23/20  \n",
       "0    32505    32576    32576    32576    32576    32576    32610  \n",
       "1     6788     6831     6888     6940     6995     7042     7139  \n",
       "2    34675    34818    34923    35047    35180    35307    35428  \n",
       "3     1054     1164     1164     1164     1199     1199     1203  \n",
       "4     1405     1443     1445     1445     1449     1462     1473  \n",
       "\n",
       "[5 rows x 250 columns]"
      ]
     },
     "execution_count": 21,
     "metadata": {},
     "output_type": "execute_result"
    }
   ],
   "source": [
    "TS_recovered.head()"
   ]
  },
  {
   "cell_type": "code",
   "execution_count": 170,
   "metadata": {},
   "outputs": [
    {
     "data": {
      "text/plain": [
       "Province/State    186\n",
       "Country/Region      0\n",
       "Lat                 0\n",
       "Long                0\n",
       "1/22/20             0\n",
       "                 ... \n",
       "9/19/20             0\n",
       "9/20/20             0\n",
       "9/21/20             0\n",
       "9/22/20             0\n",
       "9/23/20             0\n",
       "Length: 250, dtype: int64"
      ]
     },
     "execution_count": 170,
     "metadata": {},
     "output_type": "execute_result"
    }
   ],
   "source": [
    "# looking for missing value\n",
    "TS_recovered.isnull().sum()"
   ]
  },
  {
   "cell_type": "code",
   "execution_count": null,
   "metadata": {},
   "outputs": [],
   "source": []
  }
 ],
 "metadata": {
  "kernelspec": {
   "display_name": "Python 3",
   "language": "python",
   "name": "python3"
  },
  "language_info": {
   "codemirror_mode": {
    "name": "ipython",
    "version": 3
   },
   "file_extension": ".py",
   "mimetype": "text/x-python",
   "name": "python",
   "nbconvert_exporter": "python",
   "pygments_lexer": "ipython3",
   "version": "3.8.6"
  }
 },
 "nbformat": 4,
 "nbformat_minor": 4
}
